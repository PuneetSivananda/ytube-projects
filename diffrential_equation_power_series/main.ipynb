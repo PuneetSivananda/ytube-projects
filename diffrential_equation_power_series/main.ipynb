{
 "cells": [
  {
   "attachments": {},
   "cell_type": "markdown",
   "metadata": {},
   "source": [
    "$\\dot{x} = ax => x(t) = e^{at} x_o$ <br/>\n",
    "what is $ e^{at} $ ? <br/>\n",
    "$x(t) = c_0 + c_1t+ c_2 t^2+c_3t^3+c_4 t^4$<br/>\n"
   ]
  },
  {
   "attachments": {},
   "cell_type": "markdown",
   "metadata": {},
   "source": []
  }
 ],
 "metadata": {
  "kernelspec": {
   "display_name": "envs",
   "language": "python",
   "name": "python3"
  },
  "language_info": {
   "name": "python",
   "version": "3.11.0 (main, Nov 10 2022, 12:46:22) [Clang 14.0.0 (clang-1400.0.29.202)]"
  },
  "orig_nbformat": 4,
  "vscode": {
   "interpreter": {
    "hash": "0dd241b013f061b10f4b265394e9863a1f0e31d03f5db7d9e99726bd6dd50c83"
   }
  }
 },
 "nbformat": 4,
 "nbformat_minor": 2
}
