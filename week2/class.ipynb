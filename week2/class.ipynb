{
 "cells": [
  {
   "cell_type": "code",
   "execution_count": 1,
   "metadata": {},
   "outputs": [],
   "source": [
    "### Constructors"
   ]
  },
  {
   "cell_type": "code",
   "execution_count": 3,
   "metadata": {},
   "outputs": [
    {
     "data": {
      "text/plain": [
       "True"
      ]
     },
     "execution_count": 3,
     "metadata": {},
     "output_type": "execute_result"
    }
   ],
   "source": [
    "# using a Constructor\n",
    "class Dog:\n",
    "    def __init__(self) -> None:\n",
    "        self.is_animal = True\n",
    "        \n",
    "\n",
    "d = Dog()\n",
    "d.is_animal"
   ]
  },
  {
   "cell_type": "code",
   "execution_count": 4,
   "metadata": {},
   "outputs": [
    {
     "name": "stdout",
     "output_type": "stream",
     "text": [
      "Rufus is a animal True\n",
      "Sparky is a animal True\n"
     ]
    }
   ],
   "source": [
    "rufus = Dog()\n",
    "sparky = Dog()\n",
    "\n",
    "print(\"Rufus is a animal\", rufus.is_animal)\n",
    "print(\"Sparky is a animal\", sparky.is_animal)"
   ]
  },
  {
   "cell_type": "code",
   "execution_count": 5,
   "metadata": {},
   "outputs": [
    {
     "name": "stdout",
     "output_type": "stream",
     "text": [
      "Sparky is a animal False\n"
     ]
    }
   ],
   "source": [
    "sparky.is_animal = False\n",
    "print(\"Sparky is a animal\", sparky.is_animal)"
   ]
  }
 ],
 "metadata": {
  "kernelspec": {
   "display_name": "Python 3",
   "language": "python",
   "name": "python3"
  },
  "language_info": {
   "codemirror_mode": {
    "name": "ipython",
    "version": 3
   },
   "file_extension": ".py",
   "mimetype": "text/x-python",
   "name": "python",
   "nbconvert_exporter": "python",
   "pygments_lexer": "ipython3",
   "version": "3.11.0"
  },
  "orig_nbformat": 4,
  "vscode": {
   "interpreter": {
    "hash": "2f5295187bdd035960453856c8b5b6422d5062b35d1e9f0bcd85569be3cfa997"
   }
  }
 },
 "nbformat": 4,
 "nbformat_minor": 2
}
