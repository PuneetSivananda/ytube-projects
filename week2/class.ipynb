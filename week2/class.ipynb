{
 "cells": [
  {
   "cell_type": "code",
   "execution_count": 1,
   "metadata": {},
   "outputs": [],
   "source": [
    "### Constructors"
   ]
  },
  {
   "cell_type": "code",
   "execution_count": 3,
   "metadata": {},
   "outputs": [
    {
     "data": {
      "text/plain": [
       "True"
      ]
     },
     "execution_count": 3,
     "metadata": {},
     "output_type": "execute_result"
    }
   ],
   "source": [
    "# using a Constructor\n",
    "class Dog:\n",
    "    def __init__(self) -> None:\n",
    "        self.is_animal = True\n",
    "        \n",
    "\n",
    "d = Dog()\n",
    "d.is_animal"
   ]
  },
  {
   "cell_type": "code",
   "execution_count": 4,
   "metadata": {},
   "outputs": [
    {
     "name": "stdout",
     "output_type": "stream",
     "text": [
      "Rufus is a animal True\n",
      "Sparky is a animal True\n"
     ]
    }
   ],
   "source": [
    "rufus = Dog()\n",
    "sparky = Dog()\n",
    "\n",
    "print(\"Rufus is a animal\", rufus.is_animal)\n",
    "print(\"Sparky is a animal\", sparky.is_animal)"
   ]
  },
  {
   "cell_type": "code",
   "execution_count": 5,
   "metadata": {},
   "outputs": [
    {
     "name": "stdout",
     "output_type": "stream",
     "text": [
      "Sparky is a animal False\n"
     ]
    }
   ],
   "source": [
    "sparky.is_animal = False\n",
    "print(\"Sparky is a animal\", sparky.is_animal)"
   ]
  },
  {
   "cell_type": "code",
   "execution_count": 9,
   "metadata": {},
   "outputs": [
    {
     "name": "stdout",
     "output_type": "stream",
     "text": [
      "This is an animal names sparks, has 4 legs\n",
      "And this one barks\n"
     ]
    }
   ],
   "source": [
    "class Animal:\n",
    "    def __init__(self, name, legs=4, barks=True):\n",
    "        self.name = name\n",
    "        self.legs = legs\n",
    "        self.barks = barks\n",
    "\n",
    "    def info(self):\n",
    "        print(f\"This is an animal named {self.name}, has {self.legs} legs\")\n",
    "        if self.barks:\n",
    "            print(f\"And this one barks\")\n",
    "        else:\n",
    "            print(f\"It does'nt bark at all\")\n",
    "\n",
    "sparks = Animal(\"sparks\")\n",
    "sparks.info()"
   ]
  },
  {
   "cell_type": "code",
   "execution_count": 10,
   "metadata": {},
   "outputs": [],
   "source": [
    "### Methods in Class"
   ]
  },
  {
   "cell_type": "code",
   "execution_count": 12,
   "metadata": {},
   "outputs": [
    {
     "name": "stdout",
     "output_type": "stream",
     "text": [
      "Budget left: 98\n",
      "Budget left: 88\n"
     ]
    }
   ],
   "source": [
    "class Budget:\n",
    "    def __init__(self, budget):\n",
    "        self.budget = budget\n",
    "\n",
    "    def expense(self, amount):\n",
    "        self.budget = self.budget - amount\n",
    "        print(f\"Budget left: {self.budget}\")\n",
    "\n",
    "\n",
    "budget = Budget(100)\n",
    "\n",
    "budget.expense(2)\n",
    "budget.expense(10)"
   ]
  },
  {
   "cell_type": "code",
   "execution_count": 13,
   "metadata": {},
   "outputs": [
    {
     "name": "stdout",
     "output_type": "stream",
     "text": [
      "Budget left: 98\n",
      "Budget left: 88\n"
     ]
    }
   ],
   "source": [
    "class Budget:\n",
    "    def __init__(self, budget):\n",
    "        self.budget = budget\n",
    "\n",
    "    def expense(self, amount):\n",
    "        self.budget = self.budget - amount\n",
    "        self.report()\n",
    "\n",
    "    def report(self):\n",
    "        print(f\"Budget left: {self.budget}\")\n",
    "\n",
    "budget = Budget(100)\n",
    "\n",
    "budget.expense(2)\n",
    "budget.expense(10)"
   ]
  },
  {
   "cell_type": "code",
   "execution_count": 14,
   "metadata": {},
   "outputs": [
    {
     "name": "stdout",
     "output_type": "stream",
     "text": [
      "Current budget Variable: 88\n"
     ]
    }
   ],
   "source": [
    "print(\"Current budget Variable:\", budget.budget)"
   ]
  },
  {
   "cell_type": "code",
   "execution_count": 15,
   "metadata": {},
   "outputs": [
    {
     "name": "stdout",
     "output_type": "stream",
     "text": [
      "Budget left: $98\n",
      "Budget left: $98\n",
      "Budget left: PER $98\n"
     ]
    }
   ],
   "source": [
    "class Budget:\n",
    "    def __init__(self, budget):\n",
    "        self.budget = budget\n",
    "\n",
    "    def expense(self, amount):\n",
    "        self.budget = self.budget - amount\n",
    "        self.report()\n",
    "\n",
    "    def report(self, currency=\"$\"):\n",
    "        print(f\"Budget left: {currency}{self.budget}\")\n",
    "\n",
    "budget = Budget(100)\n",
    "budget.expense(2)\n",
    "budget.report()\n",
    "budget.report(\"PER $\")"
   ]
  },
  {
   "cell_type": "code",
   "execution_count": null,
   "metadata": {},
   "outputs": [],
   "source": []
  }
 ],
 "metadata": {
  "kernelspec": {
   "display_name": "Python 3",
   "language": "python",
   "name": "python3"
  },
  "language_info": {
   "codemirror_mode": {
    "name": "ipython",
    "version": 3
   },
   "file_extension": ".py",
   "mimetype": "text/x-python",
   "name": "python",
   "nbconvert_exporter": "python",
   "pygments_lexer": "ipython3",
   "version": "3.11.0"
  },
  "orig_nbformat": 4,
  "vscode": {
   "interpreter": {
    "hash": "2f5295187bdd035960453856c8b5b6422d5062b35d1e9f0bcd85569be3cfa997"
   }
  }
 },
 "nbformat": 4,
 "nbformat_minor": 2
}
