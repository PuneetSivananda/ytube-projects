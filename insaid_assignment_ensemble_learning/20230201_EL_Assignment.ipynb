{
 "cells": [
  {
   "cell_type": "markdown",
   "metadata": {
    "id": "SYOw37syTNq5"
   },
   "source": [
    "<center><img src=\"https://github.com/insaid2018/Term-1/blob/master/Images/INSAID_Full%20Logo.png?raw=true\" width=\"240\" height=\"100\" /></center>"
   ]
  },
  {
   "cell_type": "markdown",
   "metadata": {
    "id": "LX3cCTQWTPfA"
   },
   "source": [
    "**<center><h3>Ensemble Learning Assignment Problem</h3></center>**"
   ]
  },
  {
   "cell_type": "markdown",
   "metadata": {
    "id": "icP4xySeTdI6"
   },
   "source": [
    "---\n",
    "# **Table of Contents**\n",
    "---\n",
    "\n",
    "**1.** [**Problem Statement**](#Section1)<br>\n",
    "**2.** [**Objective**](#Section2)<br>\n",
    "**3.** [**Installing & Importing Libraries**](#Section3)<br>\n",
    "  - **3.1** [**Installing Libraries**](#Section31)\n",
    "  - **3.2** [**Upgrading Libraries**](#Section32)\n",
    "  - **3.3** [**Importing Libraries**](#Section33)\n",
    "\n",
    "**4.** [**Data Acquisition & Description**](#Section4)<br>\n",
    "  - **4.1** [**Data Description**](#Section41)<br>\n",
    "\n",
    "**5.** [**Data Pre-processing**](#Section5)<br>\n",
    "  - **5.1** [**Pre-Profiling Report**](#Section51)<br>\n",
    "\n",
    "**6.** [**Exploratory Data Analysis**](#Section6)<br>\n",
    "**7.** [**Post Data Processing & Feature Selection**](#Section7)<br>\n",
    "**8.** [**Model Development & Evaluation**](#Section8)<br>\n",
    "**9.** [**Conclusion**](#Section9)<br>\n"
   ]
  },
  {
   "cell_type": "markdown",
   "metadata": {
    "id": "HC50tdAtToeA"
   },
   "source": [
    "---\n",
    "<a name = Section1></a>\n",
    "# **1. Problem Statement**\n",
    "---\n",
    "- **Medilet** a cancer research institute is working on a project related to breast cancer.\n",
    "\n",
    "- They have collected data regarding **tumor lumps** inside the breast but they are **uncertain** about the type of tumor.\n",
    "\n",
    "- They have hired a team of data scientists. Consider you are one of them...\n"
   ]
  },
  {
   "cell_type": "markdown",
   "metadata": {
    "id": "TOLknumQTteG"
   },
   "source": [
    "---\n",
    "<a name = Section2></a>\n",
    "# **2. Objective**\n",
    "---\n",
    "\n",
    "- The objective of this assignment is to **predict** if the tumor is Benign or Malignant."
   ]
  },
  {
   "cell_type": "markdown",
   "metadata": {
    "id": "XtlrwPAnTw9v"
   },
   "source": [
    "---\n",
    "<a name = Section3></a>\n",
    "# **3. Installing & Importing Libraries**\n",
    "---"
   ]
  },
  {
   "cell_type": "markdown",
   "metadata": {
    "id": "PEDodd4RTzwQ"
   },
   "source": [
    "<a name = Section31></a>\n",
    "### **3.1 Installing Libraries**"
   ]
  },
  {
   "cell_type": "code",
   "execution_count": 2,
   "metadata": {
    "id": "uReYv3Q0Tfbq"
   },
   "outputs": [
    {
     "name": "stderr",
     "output_type": "stream",
     "text": [
      "WARNING: Ignoring invalid distribution -andas (c:\\users\\10011487\\anaconda3\\lib\\site-packages)\n",
      "ERROR: Invalid requirement: '#'\n",
      "WARNING: Ignoring invalid distribution -andas (c:\\users\\10011487\\anaconda3\\lib\\site-packages)\n",
      "WARNING: Ignoring invalid distribution -andas (c:\\users\\10011487\\anaconda3\\lib\\site-packages)\n",
      "WARNING: Ignoring invalid distribution -andas (c:\\users\\10011487\\anaconda3\\lib\\site-packages)\n",
      "WARNING: Ignoring invalid distribution -andas (c:\\users\\10011487\\anaconda3\\lib\\site-packages)\n",
      "WARNING: Ignoring invalid distribution -andas (c:\\users\\10011487\\anaconda3\\lib\\site-packages)\n",
      "WARNING: Ignoring invalid distribution -andas (c:\\users\\10011487\\anaconda3\\lib\\site-packages)\n",
      "WARNING: Ignoring invalid distribution -andas (c:\\users\\10011487\\anaconda3\\lib\\site-packages)\n",
      "WARNING: Ignoring invalid distribution -andas (c:\\users\\10011487\\anaconda3\\lib\\site-packages)\n",
      "WARNING: Ignoring invalid distribution -andas (c:\\users\\10011487\\anaconda3\\lib\\site-packages)\n"
     ]
    }
   ],
   "source": [
    "!pip install -q datascience                                                       # Package that is required by pandas profiling\n",
    "!pip install -q pandas-profiling  "
   ]
  },
  {
   "cell_type": "code",
   "execution_count": 3,
   "metadata": {},
   "outputs": [
    {
     "name": "stdout",
     "output_type": "stream",
     "text": [
      "Requirement already satisfied: mlxtend in c:\\users\\10011487\\anaconda3\\lib\\site-packages (0.21.0)\n",
      "Requirement already satisfied: numpy>=1.16.2 in c:\\users\\10011487\\anaconda3\\lib\\site-packages (from mlxtend) (1.21.5)\n",
      "Requirement already satisfied: setuptools in c:\\users\\10011487\\anaconda3\\lib\\site-packages (from mlxtend) (63.4.1)\n",
      "Requirement already satisfied: scipy>=1.2.1 in c:\\users\\10011487\\anaconda3\\lib\\site-packages (from mlxtend) (1.9.1)\n",
      "Requirement already satisfied: pandas>=0.24.2 in c:\\users\\10011487\\anaconda3\\lib\\site-packages (from mlxtend) (1.5.2)\n",
      "Requirement already satisfied: matplotlib>=3.0.0 in c:\\users\\10011487\\anaconda3\\lib\\site-packages (from mlxtend) (3.5.2)\n",
      "Requirement already satisfied: joblib>=0.13.2 in c:\\users\\10011487\\anaconda3\\lib\\site-packages (from mlxtend) (1.1.0)\n",
      "Requirement already satisfied: scikit-learn>=1.0.2 in c:\\users\\10011487\\anaconda3\\lib\\site-packages (from mlxtend) (1.0.2)\n",
      "Requirement already satisfied: pyparsing>=2.2.1 in c:\\users\\10011487\\anaconda3\\lib\\site-packages (from matplotlib>=3.0.0->mlxtend) (3.0.9)\n",
      "Requirement already satisfied: fonttools>=4.22.0 in c:\\users\\10011487\\anaconda3\\lib\\site-packages (from matplotlib>=3.0.0->mlxtend) (4.25.0)\n",
      "Requirement already satisfied: python-dateutil>=2.7 in c:\\users\\10011487\\anaconda3\\lib\\site-packages (from matplotlib>=3.0.0->mlxtend) (2.8.2)\n",
      "Requirement already satisfied: kiwisolver>=1.0.1 in c:\\users\\10011487\\anaconda3\\lib\\site-packages (from matplotlib>=3.0.0->mlxtend) (1.4.2)\n",
      "Requirement already satisfied: packaging>=20.0 in c:\\users\\10011487\\anaconda3\\lib\\site-packages (from matplotlib>=3.0.0->mlxtend) (21.3)\n",
      "Requirement already satisfied: pillow>=6.2.0 in c:\\users\\10011487\\anaconda3\\lib\\site-packages (from matplotlib>=3.0.0->mlxtend) (9.2.0)\n",
      "Requirement already satisfied: cycler>=0.10 in c:\\users\\10011487\\anaconda3\\lib\\site-packages (from matplotlib>=3.0.0->mlxtend) (0.11.0)\n",
      "Requirement already satisfied: pytz>=2020.1 in c:\\users\\10011487\\anaconda3\\lib\\site-packages (from pandas>=0.24.2->mlxtend) (2022.1)\n",
      "Requirement already satisfied: threadpoolctl>=2.0.0 in c:\\users\\10011487\\anaconda3\\lib\\site-packages (from scikit-learn>=1.0.2->mlxtend) (2.2.0)\n",
      "Requirement already satisfied: six>=1.5 in c:\\users\\10011487\\anaconda3\\lib\\site-packages (from python-dateutil>=2.7->matplotlib>=3.0.0->mlxtend) (1.16.0)\n"
     ]
    },
    {
     "name": "stderr",
     "output_type": "stream",
     "text": [
      "WARNING: Ignoring invalid distribution -andas (c:\\users\\10011487\\anaconda3\\lib\\site-packages)\n",
      "WARNING: Ignoring invalid distribution -andas (c:\\users\\10011487\\anaconda3\\lib\\site-packages)\n",
      "WARNING: Ignoring invalid distribution -andas (c:\\users\\10011487\\anaconda3\\lib\\site-packages)\n",
      "WARNING: Ignoring invalid distribution -andas (c:\\users\\10011487\\anaconda3\\lib\\site-packages)\n",
      "WARNING: Ignoring invalid distribution -andas (c:\\users\\10011487\\anaconda3\\lib\\site-packages)\n",
      "WARNING: Ignoring invalid distribution -andas (c:\\users\\10011487\\anaconda3\\lib\\site-packages)\n"
     ]
    }
   ],
   "source": [
    "!pip install mlxtend"
   ]
  },
  {
   "cell_type": "markdown",
   "metadata": {
    "id": "iCixNz_JT4v-"
   },
   "source": [
    "<a name = Section32></a>\n",
    "### **3.2 Upgrading Libraries**\n",
    "\n",
    "- **After upgrading** the libraries, you need to **restart the runtime** to make the libraries in sync. \n",
    "\n",
    "- Make sure not to execute the cell above (3.1) and below (3.2) again after restarting the runtime.\n",
    "\n"
   ]
  },
  {
   "cell_type": "code",
   "execution_count": 4,
   "metadata": {
    "id": "fbVAp6P2T2FA"
   },
   "outputs": [
    {
     "name": "stderr",
     "output_type": "stream",
     "text": [
      "WARNING: Ignoring invalid distribution -andas (c:\\users\\10011487\\anaconda3\\lib\\site-packages)\n",
      "WARNING: Ignoring invalid distribution -andas (c:\\users\\10011487\\anaconda3\\lib\\site-packages)\n",
      "WARNING: Ignoring invalid distribution -andas (c:\\users\\10011487\\anaconda3\\lib\\site-packages)\n",
      "WARNING: Ignoring invalid distribution -andas (c:\\users\\10011487\\anaconda3\\lib\\site-packages)\n",
      "WARNING: Ignoring invalid distribution -andas (c:\\users\\10011487\\anaconda3\\lib\\site-packages)\n",
      "WARNING: Ignoring invalid distribution -andas (c:\\users\\10011487\\anaconda3\\lib\\site-packages)\n"
     ]
    }
   ],
   "source": [
    "!pip install -q --upgrade pandas-profiling"
   ]
  },
  {
   "cell_type": "markdown",
   "metadata": {
    "id": "7cNbpwUyT98F"
   },
   "source": [
    "<a name = Section33></a>\n",
    "### **3.3 Importing Libraries**"
   ]
  },
  {
   "cell_type": "code",
   "execution_count": 5,
   "metadata": {
    "id": "fQeMHeSHT7Ss"
   },
   "outputs": [
    {
     "name": "stderr",
     "output_type": "stream",
     "text": [
      "C:\\Users\\10011487\\AppData\\Local\\Temp\\ipykernel_15100\\2440167476.py:3: DeprecationWarning: `import pandas_profiling` is going to be deprecated by April 1st. Please use `import ydata_profiling` instead.\n",
      "  from pandas_profiling import ProfileReport                                        # Import Pandas Profiling (To generate Univariate Analysis)\n"
     ]
    }
   ],
   "source": [
    "#-------------------------------------------------------------------------------------------------------------------------------\n",
    "import pandas as pd                                                               # Importing for panel data analysis\n",
    "from pandas_profiling import ProfileReport                                        # Import Pandas Profiling (To generate Univariate Analysis) \n",
    "pd.set_option('display.max_columns', None)                                        # Unfolding hidden features if the cardinality is high      \n",
    "pd.set_option('display.max_colwidth', None)                                       # Unfolding the max feature width for better clearity      \n",
    "pd.set_option('display.max_rows', None)                                           # Unfolding hidden data points if the cardinality is high\n",
    "pd.set_option('mode.chained_assignment', None)                                    # Removing restriction over chained assignments operations\n",
    "#-------------------------------------------------------------------------------------------------------------------------------\n",
    "import numpy as np                                                                # Importing package numpys (For Numerical Python)\n",
    "import string                                                                     # For string related operations\n",
    "import pprint                                                                     # For printing of Collections line by line\n",
    "from collections import Counter                                                   # For estimating frequency\n",
    "#-------------------------------------------------------------------------------------------------------------------------------\n",
    "import matplotlib.pyplot as plt                                                   # Importing pyplot interface using matplotlib                                              \n",
    "import seaborn as sns                                                             # Importing seaborm library for interactive visualization\n",
    "%matplotlib inline\n",
    "#-------------------------------------------------------------------------------------------------------------------------------\n",
    "from sklearn.metrics import precision_recall_curve, accuracy_score                 # For precision and recall metric estimation\n",
    "from sklearn.metrics import classification_report                                 # To generate complete report of evaluation metrics\n",
    "from sklearn.metrics import plot_confusion_matrix, roc_auc_score                   # To plot confusion matrix \n",
    "#-------------------------------------------------------------------------------------------------------------------------------\n",
    "from sklearn.model_selection import train_test_split                              # To split the data in training and testing part \n",
    "from sklearn.preprocessing import StandardScaler                                  # Importing Standard Scaler library from preprocessing.     \n",
    "from sklearn.ensemble import RandomForestClassifier, VotingClassifier             # Loading differernt ensemble models\n",
    "from sklearn.ensemble import AdaBoostClassifier, BaggingClassifier                 # Loading differernt ensemble models\n",
    "from sklearn.tree import DecisionTreeClassifier                                   # Loading decision tree classifier from tree\n",
    "from sklearn.svm import SVC                                                       # Loading SVM from  Sklearn\n",
    "from sklearn.linear_model import LogisticRegression                               # Loading Logistic regression from linear model\n",
    "from sklearn.neighbors import KNeighborsClassifier\n",
    "from sklearn.naive_bayes import GaussianNB                            \n",
    "from sklearn.model_selection import cross_val_score                               # Importing cross validation score from model selection\n",
    "from sklearn import model_selection\n",
    "from mlxtend.classifier import StackingClassifier\n",
    "#-------------------------------------------------------------------------------------------------------------------------------\n",
    "import warnings                                                                   # Importing warning to disable runtime warnings\n",
    "warnings.filterwarnings(\"ignore\")     "
   ]
  },
  {
   "cell_type": "markdown",
   "metadata": {
    "id": "fycBcNS5UG6f"
   },
   "source": [
    "---\n",
    "<a name = Section4></a>\n",
    "# **4. Data Acquisition & Description**\n",
    "---\n",
    "- The dataset has been provided by Medilet, a research institute and it can be retrieved from the attached <a href = \"https://archive.ics.uci.edu/ml/machine-learning-databases/breast-cancer-wisconsin/breast-cancer-wisconsin.data\">**link**</a>.\n",
    "\n",
    "</br>\n",
    "\n",
    "| Records | Features | Dataset Size |\n",
    "| :-- | :-- | :-- |\n",
    "| \t699 | 11 | \t88.2 B| \n",
    "\n",
    "</br>\n",
    "\n",
    "|Id|Feature|Description|\n",
    "|:--|:--|:--|\n",
    "|01|**Sample code number**| Unique code for each sample.|\n",
    "|02|**Clump Thickness**|Benign cells tend to be grouped in monolayers, while cancerous cells are often grouped in multilayers.|\n",
    "|03|**Uniformity of Cell Size**|Cancer cells tend to vary in size and shape.|\n",
    "|04|**Uniformity of Cell Shape**| Cancer cells tend to vary in size and shape.|\n",
    "|05|**Marginal Adhesion**|Normal cells tend to stick together. Cancer cells tend to lose this ability. So the loss of adhesion is a sign of malignancy.|\n",
    "|06|**Single Epithelial Cell Size**| Epithelial cells that are significantly enlarged may be a malignant cell.|\n",
    "|07|**Bare Nuclei**|This is a term used for nuclei not surrounded by cytoplasm (the rest of the cell). Those are typically seen in benign tumors.|\n",
    "|08|**Bland Chromatin**|Describes a uniform \"texture\" of the nucleus seen in benign cells. In cancer cells, the chromatin tends to be more coarse.|\n",
    "|08|**Normal Nucleoli**|In cancer cells, the nucleoli become more prominent, and sometimes there are more of them.|\n",
    "|09|**Mitosis**|Cancer is essentially a disease of uncontrolled mitosis.|\n",
    "|10|**Class**| Benign (non-cancerous) or malignant (cancerous) lump in a breast.|\n"
   ]
  },
  {
   "cell_type": "code",
   "execution_count": 6,
   "metadata": {
    "id": "tOiJrZUKUD2r"
   },
   "outputs": [
    {
     "name": "stdout",
     "output_type": "stream",
     "text": [
      "Data Shape: (699, 11)\n"
     ]
    },
    {
     "data": {
      "text/html": [
       "<div>\n",
       "<style scoped>\n",
       "    .dataframe tbody tr th:only-of-type {\n",
       "        vertical-align: middle;\n",
       "    }\n",
       "\n",
       "    .dataframe tbody tr th {\n",
       "        vertical-align: top;\n",
       "    }\n",
       "\n",
       "    .dataframe thead th {\n",
       "        text-align: right;\n",
       "    }\n",
       "</style>\n",
       "<table border=\"1\" class=\"dataframe\">\n",
       "  <thead>\n",
       "    <tr style=\"text-align: right;\">\n",
       "      <th></th>\n",
       "      <th>Sample code number</th>\n",
       "      <th>Clump Thickness</th>\n",
       "      <th>Uniformity of Cell Size</th>\n",
       "      <th>Uniformity of Cell Shape</th>\n",
       "      <th>Marginal Adhesion</th>\n",
       "      <th>Single Epithelial Cell Size</th>\n",
       "      <th>Bare Nuclei</th>\n",
       "      <th>Bland Chromatin</th>\n",
       "      <th>Normal Nucleoli</th>\n",
       "      <th>Mitosis</th>\n",
       "      <th>Class</th>\n",
       "    </tr>\n",
       "  </thead>\n",
       "  <tbody>\n",
       "    <tr>\n",
       "      <th>0</th>\n",
       "      <td>1000025</td>\n",
       "      <td>5</td>\n",
       "      <td>1</td>\n",
       "      <td>1</td>\n",
       "      <td>1</td>\n",
       "      <td>2</td>\n",
       "      <td>1</td>\n",
       "      <td>3</td>\n",
       "      <td>1</td>\n",
       "      <td>1</td>\n",
       "      <td>2</td>\n",
       "    </tr>\n",
       "    <tr>\n",
       "      <th>1</th>\n",
       "      <td>1002945</td>\n",
       "      <td>5</td>\n",
       "      <td>4</td>\n",
       "      <td>4</td>\n",
       "      <td>5</td>\n",
       "      <td>7</td>\n",
       "      <td>10</td>\n",
       "      <td>3</td>\n",
       "      <td>2</td>\n",
       "      <td>1</td>\n",
       "      <td>2</td>\n",
       "    </tr>\n",
       "    <tr>\n",
       "      <th>2</th>\n",
       "      <td>1015425</td>\n",
       "      <td>3</td>\n",
       "      <td>1</td>\n",
       "      <td>1</td>\n",
       "      <td>1</td>\n",
       "      <td>2</td>\n",
       "      <td>2</td>\n",
       "      <td>3</td>\n",
       "      <td>1</td>\n",
       "      <td>1</td>\n",
       "      <td>2</td>\n",
       "    </tr>\n",
       "    <tr>\n",
       "      <th>3</th>\n",
       "      <td>1016277</td>\n",
       "      <td>6</td>\n",
       "      <td>8</td>\n",
       "      <td>8</td>\n",
       "      <td>1</td>\n",
       "      <td>3</td>\n",
       "      <td>4</td>\n",
       "      <td>3</td>\n",
       "      <td>7</td>\n",
       "      <td>1</td>\n",
       "      <td>2</td>\n",
       "    </tr>\n",
       "    <tr>\n",
       "      <th>4</th>\n",
       "      <td>1017023</td>\n",
       "      <td>4</td>\n",
       "      <td>1</td>\n",
       "      <td>1</td>\n",
       "      <td>3</td>\n",
       "      <td>2</td>\n",
       "      <td>1</td>\n",
       "      <td>3</td>\n",
       "      <td>1</td>\n",
       "      <td>1</td>\n",
       "      <td>2</td>\n",
       "    </tr>\n",
       "  </tbody>\n",
       "</table>\n",
       "</div>"
      ],
      "text/plain": [
       "   Sample code number  Clump Thickness  Uniformity of Cell Size  \\\n",
       "0             1000025                5                        1   \n",
       "1             1002945                5                        4   \n",
       "2             1015425                3                        1   \n",
       "3             1016277                6                        8   \n",
       "4             1017023                4                        1   \n",
       "\n",
       "   Uniformity of Cell Shape  Marginal Adhesion  Single Epithelial Cell Size  \\\n",
       "0                         1                  1                            2   \n",
       "1                         4                  5                            7   \n",
       "2                         1                  1                            2   \n",
       "3                         8                  1                            3   \n",
       "4                         1                  3                            2   \n",
       "\n",
       "  Bare Nuclei  Bland Chromatin  Normal Nucleoli  Mitosis  Class  \n",
       "0           1                3                1        1      2  \n",
       "1          10                3                2        1      2  \n",
       "2           2                3                1        1      2  \n",
       "3           4                3                7        1      2  \n",
       "4           1                3                1        1      2  "
      ]
     },
     "execution_count": 6,
     "metadata": {},
     "output_type": "execute_result"
    }
   ],
   "source": [
    " data = pd.read_csv(filepath_or_buffer='https://archive.ics.uci.edu/ml/machine-learning-databases/breast-cancer-wisconsin/breast-cancer-wisconsin.data',\n",
    "                    names=['Sample code number', 'Clump Thickness','Uniformity of Cell Size', 'Uniformity of Cell Shape', 'Marginal Adhesion', \n",
    "                           'Single Epithelial Cell Size','Bare Nuclei','Bland Chromatin', 'Normal Nucleoli', 'Mitosis','Class'])\n",
    "print('Data Shape:', data.shape)\n",
    "data.head()"
   ]
  },
  {
   "cell_type": "markdown",
   "metadata": {
    "id": "77Yn2IRBUXu3"
   },
   "source": [
    "<a name = Section41></a>\n",
    "### **4.1 Data Description**\n",
    "\n",
    "- In this section we will get **description** and **statistics** about the data."
   ]
  },
  {
   "cell_type": "code",
   "execution_count": 7,
   "metadata": {
    "id": "WEjgRiopUS78"
   },
   "outputs": [
    {
     "data": {
      "text/html": [
       "<div>\n",
       "<style scoped>\n",
       "    .dataframe tbody tr th:only-of-type {\n",
       "        vertical-align: middle;\n",
       "    }\n",
       "\n",
       "    .dataframe tbody tr th {\n",
       "        vertical-align: top;\n",
       "    }\n",
       "\n",
       "    .dataframe thead th {\n",
       "        text-align: right;\n",
       "    }\n",
       "</style>\n",
       "<table border=\"1\" class=\"dataframe\">\n",
       "  <thead>\n",
       "    <tr style=\"text-align: right;\">\n",
       "      <th></th>\n",
       "      <th>Sample code number</th>\n",
       "      <th>Clump Thickness</th>\n",
       "      <th>Uniformity of Cell Size</th>\n",
       "      <th>Uniformity of Cell Shape</th>\n",
       "      <th>Marginal Adhesion</th>\n",
       "      <th>Single Epithelial Cell Size</th>\n",
       "      <th>Bland Chromatin</th>\n",
       "      <th>Normal Nucleoli</th>\n",
       "      <th>Mitosis</th>\n",
       "      <th>Class</th>\n",
       "    </tr>\n",
       "  </thead>\n",
       "  <tbody>\n",
       "    <tr>\n",
       "      <th>count</th>\n",
       "      <td>6.990000e+02</td>\n",
       "      <td>699.000000</td>\n",
       "      <td>699.000000</td>\n",
       "      <td>699.000000</td>\n",
       "      <td>699.000000</td>\n",
       "      <td>699.000000</td>\n",
       "      <td>699.000000</td>\n",
       "      <td>699.000000</td>\n",
       "      <td>699.000000</td>\n",
       "      <td>699.000000</td>\n",
       "    </tr>\n",
       "    <tr>\n",
       "      <th>mean</th>\n",
       "      <td>1.071704e+06</td>\n",
       "      <td>4.417740</td>\n",
       "      <td>3.134478</td>\n",
       "      <td>3.207439</td>\n",
       "      <td>2.806867</td>\n",
       "      <td>3.216023</td>\n",
       "      <td>3.437768</td>\n",
       "      <td>2.866953</td>\n",
       "      <td>1.589413</td>\n",
       "      <td>2.689557</td>\n",
       "    </tr>\n",
       "    <tr>\n",
       "      <th>std</th>\n",
       "      <td>6.170957e+05</td>\n",
       "      <td>2.815741</td>\n",
       "      <td>3.051459</td>\n",
       "      <td>2.971913</td>\n",
       "      <td>2.855379</td>\n",
       "      <td>2.214300</td>\n",
       "      <td>2.438364</td>\n",
       "      <td>3.053634</td>\n",
       "      <td>1.715078</td>\n",
       "      <td>0.951273</td>\n",
       "    </tr>\n",
       "    <tr>\n",
       "      <th>min</th>\n",
       "      <td>6.163400e+04</td>\n",
       "      <td>1.000000</td>\n",
       "      <td>1.000000</td>\n",
       "      <td>1.000000</td>\n",
       "      <td>1.000000</td>\n",
       "      <td>1.000000</td>\n",
       "      <td>1.000000</td>\n",
       "      <td>1.000000</td>\n",
       "      <td>1.000000</td>\n",
       "      <td>2.000000</td>\n",
       "    </tr>\n",
       "    <tr>\n",
       "      <th>25%</th>\n",
       "      <td>8.706885e+05</td>\n",
       "      <td>2.000000</td>\n",
       "      <td>1.000000</td>\n",
       "      <td>1.000000</td>\n",
       "      <td>1.000000</td>\n",
       "      <td>2.000000</td>\n",
       "      <td>2.000000</td>\n",
       "      <td>1.000000</td>\n",
       "      <td>1.000000</td>\n",
       "      <td>2.000000</td>\n",
       "    </tr>\n",
       "    <tr>\n",
       "      <th>50%</th>\n",
       "      <td>1.171710e+06</td>\n",
       "      <td>4.000000</td>\n",
       "      <td>1.000000</td>\n",
       "      <td>1.000000</td>\n",
       "      <td>1.000000</td>\n",
       "      <td>2.000000</td>\n",
       "      <td>3.000000</td>\n",
       "      <td>1.000000</td>\n",
       "      <td>1.000000</td>\n",
       "      <td>2.000000</td>\n",
       "    </tr>\n",
       "    <tr>\n",
       "      <th>75%</th>\n",
       "      <td>1.238298e+06</td>\n",
       "      <td>6.000000</td>\n",
       "      <td>5.000000</td>\n",
       "      <td>5.000000</td>\n",
       "      <td>4.000000</td>\n",
       "      <td>4.000000</td>\n",
       "      <td>5.000000</td>\n",
       "      <td>4.000000</td>\n",
       "      <td>1.000000</td>\n",
       "      <td>4.000000</td>\n",
       "    </tr>\n",
       "    <tr>\n",
       "      <th>max</th>\n",
       "      <td>1.345435e+07</td>\n",
       "      <td>10.000000</td>\n",
       "      <td>10.000000</td>\n",
       "      <td>10.000000</td>\n",
       "      <td>10.000000</td>\n",
       "      <td>10.000000</td>\n",
       "      <td>10.000000</td>\n",
       "      <td>10.000000</td>\n",
       "      <td>10.000000</td>\n",
       "      <td>4.000000</td>\n",
       "    </tr>\n",
       "  </tbody>\n",
       "</table>\n",
       "</div>"
      ],
      "text/plain": [
       "       Sample code number  Clump Thickness  Uniformity of Cell Size  \\\n",
       "count        6.990000e+02       699.000000               699.000000   \n",
       "mean         1.071704e+06         4.417740                 3.134478   \n",
       "std          6.170957e+05         2.815741                 3.051459   \n",
       "min          6.163400e+04         1.000000                 1.000000   \n",
       "25%          8.706885e+05         2.000000                 1.000000   \n",
       "50%          1.171710e+06         4.000000                 1.000000   \n",
       "75%          1.238298e+06         6.000000                 5.000000   \n",
       "max          1.345435e+07        10.000000                10.000000   \n",
       "\n",
       "       Uniformity of Cell Shape  Marginal Adhesion  \\\n",
       "count                699.000000         699.000000   \n",
       "mean                   3.207439           2.806867   \n",
       "std                    2.971913           2.855379   \n",
       "min                    1.000000           1.000000   \n",
       "25%                    1.000000           1.000000   \n",
       "50%                    1.000000           1.000000   \n",
       "75%                    5.000000           4.000000   \n",
       "max                   10.000000          10.000000   \n",
       "\n",
       "       Single Epithelial Cell Size  Bland Chromatin  Normal Nucleoli  \\\n",
       "count                   699.000000       699.000000       699.000000   \n",
       "mean                      3.216023         3.437768         2.866953   \n",
       "std                       2.214300         2.438364         3.053634   \n",
       "min                       1.000000         1.000000         1.000000   \n",
       "25%                       2.000000         2.000000         1.000000   \n",
       "50%                       2.000000         3.000000         1.000000   \n",
       "75%                       4.000000         5.000000         4.000000   \n",
       "max                      10.000000        10.000000        10.000000   \n",
       "\n",
       "          Mitosis       Class  \n",
       "count  699.000000  699.000000  \n",
       "mean     1.589413    2.689557  \n",
       "std      1.715078    0.951273  \n",
       "min      1.000000    2.000000  \n",
       "25%      1.000000    2.000000  \n",
       "50%      1.000000    2.000000  \n",
       "75%      1.000000    4.000000  \n",
       "max     10.000000    4.000000  "
      ]
     },
     "execution_count": 7,
     "metadata": {},
     "output_type": "execute_result"
    }
   ],
   "source": [
    "data.describe()"
   ]
  },
  {
   "cell_type": "markdown",
   "metadata": {
    "id": "krgIYFUVUhU-"
   },
   "source": [
    "<a name = Section42></a>\n",
    "### **4.2 Data Information**\n",
    "\n",
    " - In this section, we will get **information about the data** and see some observations.\n"
   ]
  },
  {
   "cell_type": "code",
   "execution_count": 8,
   "metadata": {
    "id": "HrRrBwQjUaiK"
   },
   "outputs": [
    {
     "name": "stdout",
     "output_type": "stream",
     "text": [
      "<class 'pandas.core.frame.DataFrame'>\n",
      "RangeIndex: 699 entries, 0 to 698\n",
      "Data columns (total 11 columns):\n",
      " #   Column                       Non-Null Count  Dtype \n",
      "---  ------                       --------------  ----- \n",
      " 0   Sample code number           699 non-null    int64 \n",
      " 1   Clump Thickness              699 non-null    int64 \n",
      " 2   Uniformity of Cell Size      699 non-null    int64 \n",
      " 3   Uniformity of Cell Shape     699 non-null    int64 \n",
      " 4   Marginal Adhesion            699 non-null    int64 \n",
      " 5   Single Epithelial Cell Size  699 non-null    int64 \n",
      " 6   Bare Nuclei                  699 non-null    object\n",
      " 7   Bland Chromatin              699 non-null    int64 \n",
      " 8   Normal Nucleoli              699 non-null    int64 \n",
      " 9   Mitosis                      699 non-null    int64 \n",
      " 10  Class                        699 non-null    int64 \n",
      "dtypes: int64(10), object(1)\n",
      "memory usage: 60.2+ KB\n"
     ]
    }
   ],
   "source": [
    "data.info()"
   ]
  },
  {
   "cell_type": "markdown",
   "metadata": {
    "id": "t_2bYwbAUpF-"
   },
   "source": [
    "<a name = Section5></a>\n",
    "\n",
    "---\n",
    "# **5. Data Pre-Processing**\n",
    "---"
   ]
  },
  {
   "cell_type": "markdown",
   "metadata": {
    "id": "rsJXKcnyUsNV"
   },
   "source": [
    "<a name = Section51></a>\n",
    "### **5.1 Pre Profiling Report**"
   ]
  },
  {
   "cell_type": "code",
   "execution_count": 9,
   "metadata": {
    "id": "nK5rgQppUjhp"
   },
   "outputs": [
    {
     "data": {
      "application/vnd.jupyter.widget-view+json": {
       "model_id": "cc4534070eac4ed3b3a83fe526581e08",
       "version_major": 2,
       "version_minor": 0
      },
      "text/plain": [
       "Summarize dataset:   0%|          | 0/5 [00:00<?, ?it/s]"
      ]
     },
     "metadata": {},
     "output_type": "display_data"
    },
    {
     "data": {
      "application/vnd.jupyter.widget-view+json": {
       "model_id": "8a2b805488cb434e91033461c8c90f0b",
       "version_major": 2,
       "version_minor": 0
      },
      "text/plain": [
       "Generate report structure:   0%|          | 0/1 [00:00<?, ?it/s]"
      ]
     },
     "metadata": {},
     "output_type": "display_data"
    },
    {
     "data": {
      "application/vnd.jupyter.widget-view+json": {
       "model_id": "e051c36f8d4d44c7b6e5a444fc083a3c",
       "version_major": 2,
       "version_minor": 0
      },
      "text/plain": [
       "Render HTML:   0%|          | 0/1 [00:00<?, ?it/s]"
      ]
     },
     "metadata": {},
     "output_type": "display_data"
    },
    {
     "data": {
      "application/vnd.jupyter.widget-view+json": {
       "model_id": "630a18c24f464626aafe24b14fa61274",
       "version_major": 2,
       "version_minor": 0
      },
      "text/plain": [
       "Export report to file:   0%|          | 0/1 [00:00<?, ?it/s]"
      ]
     },
     "metadata": {},
     "output_type": "display_data"
    },
    {
     "name": "stdout",
     "output_type": "stream",
     "text": [
      "Accomplished!\n"
     ]
    }
   ],
   "source": [
    "profile = ProfileReport(df=data)\n",
    "profile.to_file(output_file='20230201_ELAssignment_PrePR.html')\n",
    "print('Accomplished!')"
   ]
  },
  {
   "cell_type": "code",
   "execution_count": 10,
   "metadata": {
    "id": "82FeLgTbUuiw"
   },
   "outputs": [],
   "source": [
    "# from google.colab import files                   # Use only if you are using Google Colab, otherwise remove it\n",
    "# files.download('Pre Profiling Report.html')      # Use only if you are using Google Colab, otherwise remove it"
   ]
  },
  {
   "cell_type": "markdown",
   "metadata": {
    "id": "Xx33GJbVNH4O"
   },
   "source": [
    "---\n",
    "**<h4>Question 1:** Create a function that drops the redundant rows and displays the frequency of final rows.</h4>\n",
    "\n",
    "---\n",
    "- You can plot the frequency distribution and proportion using seaborn countplot function."
   ]
  },
  {
   "cell_type": "code",
   "execution_count": 11,
   "metadata": {
    "id": "yFo8xEN_M-JW"
   },
   "outputs": [],
   "source": [
    "def drop_duplicate_data(data):\n",
    "    data.drop_duplicates(inplace = True)"
   ]
  },
  {
   "cell_type": "code",
   "execution_count": 12,
   "metadata": {
    "id": "3DFG8HPQO-2c"
   },
   "outputs": [],
   "source": [
    "drop_duplicate_data(data)"
   ]
  },
  {
   "cell_type": "code",
   "execution_count": 13,
   "metadata": {},
   "outputs": [
    {
     "name": "stdout",
     "output_type": "stream",
     "text": [
      "<class 'pandas.core.frame.DataFrame'>\n",
      "Int64Index: 691 entries, 0 to 698\n",
      "Data columns (total 11 columns):\n",
      " #   Column                       Non-Null Count  Dtype \n",
      "---  ------                       --------------  ----- \n",
      " 0   Sample code number           691 non-null    int64 \n",
      " 1   Clump Thickness              691 non-null    int64 \n",
      " 2   Uniformity of Cell Size      691 non-null    int64 \n",
      " 3   Uniformity of Cell Shape     691 non-null    int64 \n",
      " 4   Marginal Adhesion            691 non-null    int64 \n",
      " 5   Single Epithelial Cell Size  691 non-null    int64 \n",
      " 6   Bare Nuclei                  691 non-null    object\n",
      " 7   Bland Chromatin              691 non-null    int64 \n",
      " 8   Normal Nucleoli              691 non-null    int64 \n",
      " 9   Mitosis                      691 non-null    int64 \n",
      " 10  Class                        691 non-null    int64 \n",
      "dtypes: int64(10), object(1)\n",
      "memory usage: 64.8+ KB\n"
     ]
    }
   ],
   "source": [
    "data.info()"
   ]
  },
  {
   "cell_type": "markdown",
   "metadata": {
    "id": "t3v7cgIbQe8z"
   },
   "source": [
    "---\n",
    "**<h4>Question 2:** Create a function that drops **Sample code number** feature  from the dataset.</h4>\n",
    "\n",
    "---"
   ]
  },
  {
   "cell_type": "code",
   "execution_count": 14,
   "metadata": {
    "id": "-s6X2ZEZPA_g"
   },
   "outputs": [],
   "source": [
    "def drop_features(data):\n",
    "    data.drop(\"Sample code number\", axis = 'columns', inplace = True)"
   ]
  },
  {
   "cell_type": "code",
   "execution_count": 15,
   "metadata": {
    "id": "UVsxcD5tRA5M"
   },
   "outputs": [
    {
     "data": {
      "text/html": [
       "<div>\n",
       "<style scoped>\n",
       "    .dataframe tbody tr th:only-of-type {\n",
       "        vertical-align: middle;\n",
       "    }\n",
       "\n",
       "    .dataframe tbody tr th {\n",
       "        vertical-align: top;\n",
       "    }\n",
       "\n",
       "    .dataframe thead th {\n",
       "        text-align: right;\n",
       "    }\n",
       "</style>\n",
       "<table border=\"1\" class=\"dataframe\">\n",
       "  <thead>\n",
       "    <tr style=\"text-align: right;\">\n",
       "      <th></th>\n",
       "      <th>Clump Thickness</th>\n",
       "      <th>Uniformity of Cell Size</th>\n",
       "      <th>Uniformity of Cell Shape</th>\n",
       "      <th>Marginal Adhesion</th>\n",
       "      <th>Single Epithelial Cell Size</th>\n",
       "      <th>Bare Nuclei</th>\n",
       "      <th>Bland Chromatin</th>\n",
       "      <th>Normal Nucleoli</th>\n",
       "      <th>Mitosis</th>\n",
       "      <th>Class</th>\n",
       "    </tr>\n",
       "  </thead>\n",
       "  <tbody>\n",
       "    <tr>\n",
       "      <th>0</th>\n",
       "      <td>5</td>\n",
       "      <td>1</td>\n",
       "      <td>1</td>\n",
       "      <td>1</td>\n",
       "      <td>2</td>\n",
       "      <td>1</td>\n",
       "      <td>3</td>\n",
       "      <td>1</td>\n",
       "      <td>1</td>\n",
       "      <td>2</td>\n",
       "    </tr>\n",
       "    <tr>\n",
       "      <th>1</th>\n",
       "      <td>5</td>\n",
       "      <td>4</td>\n",
       "      <td>4</td>\n",
       "      <td>5</td>\n",
       "      <td>7</td>\n",
       "      <td>10</td>\n",
       "      <td>3</td>\n",
       "      <td>2</td>\n",
       "      <td>1</td>\n",
       "      <td>2</td>\n",
       "    </tr>\n",
       "    <tr>\n",
       "      <th>2</th>\n",
       "      <td>3</td>\n",
       "      <td>1</td>\n",
       "      <td>1</td>\n",
       "      <td>1</td>\n",
       "      <td>2</td>\n",
       "      <td>2</td>\n",
       "      <td>3</td>\n",
       "      <td>1</td>\n",
       "      <td>1</td>\n",
       "      <td>2</td>\n",
       "    </tr>\n",
       "    <tr>\n",
       "      <th>3</th>\n",
       "      <td>6</td>\n",
       "      <td>8</td>\n",
       "      <td>8</td>\n",
       "      <td>1</td>\n",
       "      <td>3</td>\n",
       "      <td>4</td>\n",
       "      <td>3</td>\n",
       "      <td>7</td>\n",
       "      <td>1</td>\n",
       "      <td>2</td>\n",
       "    </tr>\n",
       "    <tr>\n",
       "      <th>4</th>\n",
       "      <td>4</td>\n",
       "      <td>1</td>\n",
       "      <td>1</td>\n",
       "      <td>3</td>\n",
       "      <td>2</td>\n",
       "      <td>1</td>\n",
       "      <td>3</td>\n",
       "      <td>1</td>\n",
       "      <td>1</td>\n",
       "      <td>2</td>\n",
       "    </tr>\n",
       "  </tbody>\n",
       "</table>\n",
       "</div>"
      ],
      "text/plain": [
       "   Clump Thickness  Uniformity of Cell Size  Uniformity of Cell Shape  \\\n",
       "0                5                        1                         1   \n",
       "1                5                        4                         4   \n",
       "2                3                        1                         1   \n",
       "3                6                        8                         8   \n",
       "4                4                        1                         1   \n",
       "\n",
       "   Marginal Adhesion  Single Epithelial Cell Size Bare Nuclei  \\\n",
       "0                  1                            2           1   \n",
       "1                  5                            7          10   \n",
       "2                  1                            2           2   \n",
       "3                  1                            3           4   \n",
       "4                  3                            2           1   \n",
       "\n",
       "   Bland Chromatin  Normal Nucleoli  Mitosis  Class  \n",
       "0                3                1        1      2  \n",
       "1                3                2        1      2  \n",
       "2                3                1        1      2  \n",
       "3                3                7        1      2  \n",
       "4                3                1        1      2  "
      ]
     },
     "execution_count": 15,
     "metadata": {},
     "output_type": "execute_result"
    }
   ],
   "source": [
    "drop_features(data)\n",
    "data.head()"
   ]
  },
  {
   "cell_type": "markdown",
   "metadata": {
    "id": "_EqrOCwJkFvJ"
   },
   "source": [
    "---\n",
    "**<h4>Question 6:** Create a function to replace '?' in 'Bare Nuclei' with 0 ? </h4>\n",
    "\n",
    "---\n",
    "\n",
    "- Print the unique values in 'Bare Nuclei' after the opreation is performed."
   ]
  },
  {
   "cell_type": "code",
   "execution_count": 16,
   "metadata": {},
   "outputs": [
    {
     "data": {
      "text/plain": [
       "array(['1', '10', '2', '4', '3', '9', '7', '?', '5', '8', '6'],\n",
       "      dtype=object)"
      ]
     },
     "execution_count": 16,
     "metadata": {},
     "output_type": "execute_result"
    }
   ],
   "source": [
    "data['Bare Nuclei'].unique()"
   ]
  },
  {
   "cell_type": "code",
   "execution_count": 17,
   "metadata": {},
   "outputs": [],
   "source": [
    "data_test = data"
   ]
  },
  {
   "cell_type": "code",
   "execution_count": 18,
   "metadata": {},
   "outputs": [
    {
     "data": {
      "text/html": [
       "<div>\n",
       "<style scoped>\n",
       "    .dataframe tbody tr th:only-of-type {\n",
       "        vertical-align: middle;\n",
       "    }\n",
       "\n",
       "    .dataframe tbody tr th {\n",
       "        vertical-align: top;\n",
       "    }\n",
       "\n",
       "    .dataframe thead th {\n",
       "        text-align: right;\n",
       "    }\n",
       "</style>\n",
       "<table border=\"1\" class=\"dataframe\">\n",
       "  <thead>\n",
       "    <tr style=\"text-align: right;\">\n",
       "      <th></th>\n",
       "      <th>Clump Thickness</th>\n",
       "      <th>Uniformity of Cell Size</th>\n",
       "      <th>Uniformity of Cell Shape</th>\n",
       "      <th>Marginal Adhesion</th>\n",
       "      <th>Single Epithelial Cell Size</th>\n",
       "      <th>Bare Nuclei</th>\n",
       "      <th>Bland Chromatin</th>\n",
       "      <th>Normal Nucleoli</th>\n",
       "      <th>Mitosis</th>\n",
       "      <th>Class</th>\n",
       "    </tr>\n",
       "  </thead>\n",
       "  <tbody>\n",
       "    <tr>\n",
       "      <th>0</th>\n",
       "      <td>5</td>\n",
       "      <td>1</td>\n",
       "      <td>1</td>\n",
       "      <td>1</td>\n",
       "      <td>2</td>\n",
       "      <td>1</td>\n",
       "      <td>3</td>\n",
       "      <td>1</td>\n",
       "      <td>1</td>\n",
       "      <td>2</td>\n",
       "    </tr>\n",
       "    <tr>\n",
       "      <th>1</th>\n",
       "      <td>5</td>\n",
       "      <td>4</td>\n",
       "      <td>4</td>\n",
       "      <td>5</td>\n",
       "      <td>7</td>\n",
       "      <td>10</td>\n",
       "      <td>3</td>\n",
       "      <td>2</td>\n",
       "      <td>1</td>\n",
       "      <td>2</td>\n",
       "    </tr>\n",
       "    <tr>\n",
       "      <th>2</th>\n",
       "      <td>3</td>\n",
       "      <td>1</td>\n",
       "      <td>1</td>\n",
       "      <td>1</td>\n",
       "      <td>2</td>\n",
       "      <td>2</td>\n",
       "      <td>3</td>\n",
       "      <td>1</td>\n",
       "      <td>1</td>\n",
       "      <td>2</td>\n",
       "    </tr>\n",
       "    <tr>\n",
       "      <th>3</th>\n",
       "      <td>6</td>\n",
       "      <td>8</td>\n",
       "      <td>8</td>\n",
       "      <td>1</td>\n",
       "      <td>3</td>\n",
       "      <td>4</td>\n",
       "      <td>3</td>\n",
       "      <td>7</td>\n",
       "      <td>1</td>\n",
       "      <td>2</td>\n",
       "    </tr>\n",
       "    <tr>\n",
       "      <th>4</th>\n",
       "      <td>4</td>\n",
       "      <td>1</td>\n",
       "      <td>1</td>\n",
       "      <td>3</td>\n",
       "      <td>2</td>\n",
       "      <td>1</td>\n",
       "      <td>3</td>\n",
       "      <td>1</td>\n",
       "      <td>1</td>\n",
       "      <td>2</td>\n",
       "    </tr>\n",
       "  </tbody>\n",
       "</table>\n",
       "</div>"
      ],
      "text/plain": [
       "   Clump Thickness  Uniformity of Cell Size  Uniformity of Cell Shape  \\\n",
       "0                5                        1                         1   \n",
       "1                5                        4                         4   \n",
       "2                3                        1                         1   \n",
       "3                6                        8                         8   \n",
       "4                4                        1                         1   \n",
       "\n",
       "   Marginal Adhesion  Single Epithelial Cell Size Bare Nuclei  \\\n",
       "0                  1                            2           1   \n",
       "1                  5                            7          10   \n",
       "2                  1                            2           2   \n",
       "3                  1                            3           4   \n",
       "4                  3                            2           1   \n",
       "\n",
       "   Bland Chromatin  Normal Nucleoli  Mitosis  Class  \n",
       "0                3                1        1      2  \n",
       "1                3                2        1      2  \n",
       "2                3                1        1      2  \n",
       "3                3                7        1      2  \n",
       "4                3                1        1      2  "
      ]
     },
     "execution_count": 18,
     "metadata": {},
     "output_type": "execute_result"
    }
   ],
   "source": [
    "data_test.head()"
   ]
  },
  {
   "cell_type": "code",
   "execution_count": 19,
   "metadata": {
    "id": "j1dQFSECkg-6"
   },
   "outputs": [],
   "source": [
    "def replace_unwanted(data_test):\n",
    "    data_test['Bare Nuclei'] = np.where(data_test['Bare Nuclei'] != '?', data_test['Bare Nuclei'], 0)"
   ]
  },
  {
   "cell_type": "code",
   "execution_count": 20,
   "metadata": {
    "id": "RdxdLgcVko4x"
   },
   "outputs": [],
   "source": [
    "replace_unwanted(data_test)"
   ]
  },
  {
   "cell_type": "code",
   "execution_count": 21,
   "metadata": {},
   "outputs": [
    {
     "data": {
      "text/plain": [
       "array(['1', '10', '2', '4', '3', '9', '7', 0, '5', '8', '6'], dtype=object)"
      ]
     },
     "execution_count": 21,
     "metadata": {},
     "output_type": "execute_result"
    }
   ],
   "source": [
    "data_test['Bare Nuclei'].unique()"
   ]
  },
  {
   "cell_type": "code",
   "execution_count": 22,
   "metadata": {},
   "outputs": [
    {
     "data": {
      "text/plain": [
       "1     397\n",
       "10    130\n",
       "2      30\n",
       "5      30\n",
       "3      28\n",
       "8      20\n",
       "4      19\n",
       "0      16\n",
       "9       9\n",
       "7       8\n",
       "6       4\n",
       "Name: Bare Nuclei, dtype: int64"
      ]
     },
     "execution_count": 22,
     "metadata": {},
     "output_type": "execute_result"
    }
   ],
   "source": [
    "data_test['Bare Nuclei'].value_counts()"
   ]
  },
  {
   "cell_type": "code",
   "execution_count": 23,
   "metadata": {},
   "outputs": [
    {
     "data": {
      "text/plain": [
       "1     397\n",
       "10    130\n",
       "2      30\n",
       "5      30\n",
       "3      28\n",
       "8      20\n",
       "4      19\n",
       "0      16\n",
       "9       9\n",
       "7       8\n",
       "6       4\n",
       "Name: Bare Nuclei, dtype: int64"
      ]
     },
     "execution_count": 23,
     "metadata": {},
     "output_type": "execute_result"
    }
   ],
   "source": [
    "data['Bare Nuclei'].value_counts()"
   ]
  },
  {
   "cell_type": "code",
   "execution_count": 24,
   "metadata": {},
   "outputs": [
    {
     "data": {
      "text/plain": [
       "array(['1', '10', '2', '4', '3', '9', '7', 0, '5', '8', '6'], dtype=object)"
      ]
     },
     "execution_count": 24,
     "metadata": {},
     "output_type": "execute_result"
    }
   ],
   "source": [
    "data['Bare Nuclei'].unique()"
   ]
  },
  {
   "cell_type": "markdown",
   "metadata": {
    "id": "lqeGFKzTRRBJ"
   },
   "source": [
    "<a name = Section6></a>\n",
    "\n",
    "---\n",
    "# **6. Exploratory Data Analysis**\n",
    "---"
   ]
  },
  {
   "cell_type": "markdown",
   "metadata": {
    "id": "3vEZ3zIZRUOl"
   },
   "source": [
    "---\n",
    "**<h4>Question 3:** Create a function that displays the frequency of Malignant and Benign tumors in the class column?</h4>\n",
    "\n",
    "---\n",
    "- You can plot the frequency distribution using seaborn countplot function.\n",
    "\n",
    "- You can also add proportions onto your plot."
   ]
  },
  {
   "cell_type": "code",
   "execution_count": 25,
   "metadata": {},
   "outputs": [
    {
     "data": {
      "text/html": [
       "<div>\n",
       "<style scoped>\n",
       "    .dataframe tbody tr th:only-of-type {\n",
       "        vertical-align: middle;\n",
       "    }\n",
       "\n",
       "    .dataframe tbody tr th {\n",
       "        vertical-align: top;\n",
       "    }\n",
       "\n",
       "    .dataframe thead th {\n",
       "        text-align: right;\n",
       "    }\n",
       "</style>\n",
       "<table border=\"1\" class=\"dataframe\">\n",
       "  <thead>\n",
       "    <tr style=\"text-align: right;\">\n",
       "      <th></th>\n",
       "      <th>Clump Thickness</th>\n",
       "      <th>Uniformity of Cell Size</th>\n",
       "      <th>Uniformity of Cell Shape</th>\n",
       "      <th>Marginal Adhesion</th>\n",
       "      <th>Single Epithelial Cell Size</th>\n",
       "      <th>Bare Nuclei</th>\n",
       "      <th>Bland Chromatin</th>\n",
       "      <th>Normal Nucleoli</th>\n",
       "      <th>Mitosis</th>\n",
       "      <th>Class</th>\n",
       "    </tr>\n",
       "  </thead>\n",
       "  <tbody>\n",
       "    <tr>\n",
       "      <th>0</th>\n",
       "      <td>5</td>\n",
       "      <td>1</td>\n",
       "      <td>1</td>\n",
       "      <td>1</td>\n",
       "      <td>2</td>\n",
       "      <td>1</td>\n",
       "      <td>3</td>\n",
       "      <td>1</td>\n",
       "      <td>1</td>\n",
       "      <td>2</td>\n",
       "    </tr>\n",
       "    <tr>\n",
       "      <th>1</th>\n",
       "      <td>5</td>\n",
       "      <td>4</td>\n",
       "      <td>4</td>\n",
       "      <td>5</td>\n",
       "      <td>7</td>\n",
       "      <td>10</td>\n",
       "      <td>3</td>\n",
       "      <td>2</td>\n",
       "      <td>1</td>\n",
       "      <td>2</td>\n",
       "    </tr>\n",
       "    <tr>\n",
       "      <th>2</th>\n",
       "      <td>3</td>\n",
       "      <td>1</td>\n",
       "      <td>1</td>\n",
       "      <td>1</td>\n",
       "      <td>2</td>\n",
       "      <td>2</td>\n",
       "      <td>3</td>\n",
       "      <td>1</td>\n",
       "      <td>1</td>\n",
       "      <td>2</td>\n",
       "    </tr>\n",
       "    <tr>\n",
       "      <th>3</th>\n",
       "      <td>6</td>\n",
       "      <td>8</td>\n",
       "      <td>8</td>\n",
       "      <td>1</td>\n",
       "      <td>3</td>\n",
       "      <td>4</td>\n",
       "      <td>3</td>\n",
       "      <td>7</td>\n",
       "      <td>1</td>\n",
       "      <td>2</td>\n",
       "    </tr>\n",
       "    <tr>\n",
       "      <th>4</th>\n",
       "      <td>4</td>\n",
       "      <td>1</td>\n",
       "      <td>1</td>\n",
       "      <td>3</td>\n",
       "      <td>2</td>\n",
       "      <td>1</td>\n",
       "      <td>3</td>\n",
       "      <td>1</td>\n",
       "      <td>1</td>\n",
       "      <td>2</td>\n",
       "    </tr>\n",
       "  </tbody>\n",
       "</table>\n",
       "</div>"
      ],
      "text/plain": [
       "   Clump Thickness  Uniformity of Cell Size  Uniformity of Cell Shape  \\\n",
       "0                5                        1                         1   \n",
       "1                5                        4                         4   \n",
       "2                3                        1                         1   \n",
       "3                6                        8                         8   \n",
       "4                4                        1                         1   \n",
       "\n",
       "   Marginal Adhesion  Single Epithelial Cell Size Bare Nuclei  \\\n",
       "0                  1                            2           1   \n",
       "1                  5                            7          10   \n",
       "2                  1                            2           2   \n",
       "3                  1                            3           4   \n",
       "4                  3                            2           1   \n",
       "\n",
       "   Bland Chromatin  Normal Nucleoli  Mitosis  Class  \n",
       "0                3                1        1      2  \n",
       "1                3                2        1      2  \n",
       "2                3                1        1      2  \n",
       "3                3                7        1      2  \n",
       "4                3                1        1      2  "
      ]
     },
     "execution_count": 25,
     "metadata": {},
     "output_type": "execute_result"
    }
   ],
   "source": [
    "data.head()"
   ]
  },
  {
   "cell_type": "code",
   "execution_count": 26,
   "metadata": {
    "id": "BnCgdY7ORLmw"
   },
   "outputs": [],
   "source": [
    "def plot_class(data):\n",
    "    sns.countplot(x = data['Class'])"
   ]
  },
  {
   "cell_type": "code",
   "execution_count": 27,
   "metadata": {
    "id": "x-fiteOnS1bC"
   },
   "outputs": [
    {
     "data": {
      "image/png": "[encoded data removed]",
      "text/plain": [
       "<Figure size 640x480 with 1 Axes>"
      ]
     },
     "metadata": {},
     "output_type": "display_data"
    }
   ],
   "source": [
    "plot_class(data)"
   ]
  },
  {
   "cell_type": "markdown",
   "metadata": {
    "id": "iaVnhHMIVYVD"
   },
   "source": [
    "---\n",
    "**<h4>Question 4:** Create a function that displays the correlation between different features.</h4>\n",
    "\n",
    "---\n",
    "\n",
    "- Write a function  plot_corr() function to create a heatmap of size (10, 7).\n",
    "\n",
    "- Use .corr() function to find the correlation between the features in the data.\n",
    "\n",
    "- Use seaborn heatmap function to plot the following."
   ]
  },
  {
   "cell_type": "code",
   "execution_count": 28,
   "metadata": {
    "id": "pXirmU9uS3oI"
   },
   "outputs": [],
   "source": [
    "def plot_corr(data):\n",
    "    correlation = data.corr()\n",
    "    sns.heatmap(correlation, annot = True, cmap = 'OrRd')"
   ]
  },
  {
   "cell_type": "code",
   "execution_count": 29,
   "metadata": {
    "id": "XE1sX3-xVbkM"
   },
   "outputs": [
    {
     "data": {
      "image/png": "[encoded data removed]",
      "text/plain": [
       "<Figure size 640x480 with 2 Axes>"
      ]
     },
     "metadata": {},
     "output_type": "display_data"
    }
   ],
   "source": [
    "plot_corr(data)"
   ]
  },
  {
   "cell_type": "code",
   "execution_count": 30,
   "metadata": {},
   "outputs": [
    {
     "data": {
      "text/plain": [
       "Class                          1.000000\n",
       "Uniformity of Cell Size        0.817720\n",
       "Uniformity of Cell Shape       0.817693\n",
       "Bland Chromatin                0.756618\n",
       "Clump Thickness                0.716938\n",
       "Normal Nucleoli                0.715540\n",
       "Marginal Adhesion              0.701371\n",
       "Single Epithelial Cell Size    0.681233\n",
       "Mitosis                        0.424111\n",
       "Name: Class, dtype: float64"
      ]
     },
     "execution_count": 30,
     "metadata": {},
     "output_type": "execute_result"
    }
   ],
   "source": [
    "correlation = data.corr()['Class'].abs().sort_values(ascending = False)\n",
    "correlation"
   ]
  },
  {
   "cell_type": "markdown",
   "metadata": {
    "id": "Hay43t-XjJ0R"
   },
   "source": [
    "<a name = Section7></a>\n",
    "\n",
    "---\n",
    "# **7. Post Data Processing & Feature Selection**\n",
    "---\n"
   ]
  },
  {
   "cell_type": "markdown",
   "metadata": {
    "id": "ogQVX5HejSrq"
   },
   "source": [
    "---\n",
    "**<h4>Question 5:** Prepare the  data according to the following model requirements.</h4>\n",
    "\n",
    "---\n",
    "\n",
    "- **Split** the data into **80:20** inside train_test_split.\n",
    "\n",
    "- Make sure to set the **random_state = 42**.\n"
   ]
  },
  {
   "cell_type": "code",
   "execution_count": 31,
   "metadata": {
    "id": "C58N-flWhgh5"
   },
   "outputs": [],
   "source": [
    "def split(data):\n",
    "    X = data.drop('Class', axis = 1)\n",
    "    y = data['Class']\n",
    "    return [X, y]\n",
    "\n",
    "def data_prep(data):\n",
    "    X = data.drop('Class', axis = 1)\n",
    "    y = data['Class']\n",
    "    return train_test_split(X, y, test_size = 0.20, random_state = 42)"
   ]
  },
  {
   "cell_type": "code",
   "execution_count": 32,
   "metadata": {
    "id": "VqN3hZJAjZ09"
   },
   "outputs": [],
   "source": [
    "X_train, X_test, y_train, y_test = data_prep(data)\n",
    "X, y = split(data)"
   ]
  },
  {
   "cell_type": "code",
   "execution_count": 33,
   "metadata": {},
   "outputs": [
    {
     "data": {
      "text/html": [
       "<div>\n",
       "<style scoped>\n",
       "    .dataframe tbody tr th:only-of-type {\n",
       "        vertical-align: middle;\n",
       "    }\n",
       "\n",
       "    .dataframe tbody tr th {\n",
       "        vertical-align: top;\n",
       "    }\n",
       "\n",
       "    .dataframe thead th {\n",
       "        text-align: right;\n",
       "    }\n",
       "</style>\n",
       "<table border=\"1\" class=\"dataframe\">\n",
       "  <thead>\n",
       "    <tr style=\"text-align: right;\">\n",
       "      <th></th>\n",
       "      <th>Clump Thickness</th>\n",
       "      <th>Uniformity of Cell Size</th>\n",
       "      <th>Uniformity of Cell Shape</th>\n",
       "      <th>Marginal Adhesion</th>\n",
       "      <th>Single Epithelial Cell Size</th>\n",
       "      <th>Bare Nuclei</th>\n",
       "      <th>Bland Chromatin</th>\n",
       "      <th>Normal Nucleoli</th>\n",
       "      <th>Mitosis</th>\n",
       "    </tr>\n",
       "  </thead>\n",
       "  <tbody>\n",
       "    <tr>\n",
       "      <th>0</th>\n",
       "      <td>5</td>\n",
       "      <td>1</td>\n",
       "      <td>1</td>\n",
       "      <td>1</td>\n",
       "      <td>2</td>\n",
       "      <td>1</td>\n",
       "      <td>3</td>\n",
       "      <td>1</td>\n",
       "      <td>1</td>\n",
       "    </tr>\n",
       "    <tr>\n",
       "      <th>1</th>\n",
       "      <td>5</td>\n",
       "      <td>4</td>\n",
       "      <td>4</td>\n",
       "      <td>5</td>\n",
       "      <td>7</td>\n",
       "      <td>10</td>\n",
       "      <td>3</td>\n",
       "      <td>2</td>\n",
       "      <td>1</td>\n",
       "    </tr>\n",
       "    <tr>\n",
       "      <th>2</th>\n",
       "      <td>3</td>\n",
       "      <td>1</td>\n",
       "      <td>1</td>\n",
       "      <td>1</td>\n",
       "      <td>2</td>\n",
       "      <td>2</td>\n",
       "      <td>3</td>\n",
       "      <td>1</td>\n",
       "      <td>1</td>\n",
       "    </tr>\n",
       "    <tr>\n",
       "      <th>3</th>\n",
       "      <td>6</td>\n",
       "      <td>8</td>\n",
       "      <td>8</td>\n",
       "      <td>1</td>\n",
       "      <td>3</td>\n",
       "      <td>4</td>\n",
       "      <td>3</td>\n",
       "      <td>7</td>\n",
       "      <td>1</td>\n",
       "    </tr>\n",
       "    <tr>\n",
       "      <th>4</th>\n",
       "      <td>4</td>\n",
       "      <td>1</td>\n",
       "      <td>1</td>\n",
       "      <td>3</td>\n",
       "      <td>2</td>\n",
       "      <td>1</td>\n",
       "      <td>3</td>\n",
       "      <td>1</td>\n",
       "      <td>1</td>\n",
       "    </tr>\n",
       "  </tbody>\n",
       "</table>\n",
       "</div>"
      ],
      "text/plain": [
       "   Clump Thickness  Uniformity of Cell Size  Uniformity of Cell Shape  \\\n",
       "0                5                        1                         1   \n",
       "1                5                        4                         4   \n",
       "2                3                        1                         1   \n",
       "3                6                        8                         8   \n",
       "4                4                        1                         1   \n",
       "\n",
       "   Marginal Adhesion  Single Epithelial Cell Size Bare Nuclei  \\\n",
       "0                  1                            2           1   \n",
       "1                  5                            7          10   \n",
       "2                  1                            2           2   \n",
       "3                  1                            3           4   \n",
       "4                  3                            2           1   \n",
       "\n",
       "   Bland Chromatin  Normal Nucleoli  Mitosis  \n",
       "0                3                1        1  \n",
       "1                3                2        1  \n",
       "2                3                1        1  \n",
       "3                3                7        1  \n",
       "4                3                1        1  "
      ]
     },
     "execution_count": 33,
     "metadata": {},
     "output_type": "execute_result"
    }
   ],
   "source": [
    "X.head()"
   ]
  },
  {
   "cell_type": "code",
   "execution_count": 34,
   "metadata": {},
   "outputs": [
    {
     "data": {
      "text/plain": [
       "0    2\n",
       "1    2\n",
       "2    2\n",
       "3    2\n",
       "4    2\n",
       "Name: Class, dtype: int64"
      ]
     },
     "execution_count": 34,
     "metadata": {},
     "output_type": "execute_result"
    }
   ],
   "source": [
    "y.head()"
   ]
  },
  {
   "cell_type": "code",
   "execution_count": 35,
   "metadata": {},
   "outputs": [
    {
     "name": "stdout",
     "output_type": "stream",
     "text": [
      "<class 'pandas.core.frame.DataFrame'>\n",
      "Int64Index: 552 entries, 110 to 102\n",
      "Data columns (total 9 columns):\n",
      " #   Column                       Non-Null Count  Dtype \n",
      "---  ------                       --------------  ----- \n",
      " 0   Clump Thickness              552 non-null    int64 \n",
      " 1   Uniformity of Cell Size      552 non-null    int64 \n",
      " 2   Uniformity of Cell Shape     552 non-null    int64 \n",
      " 3   Marginal Adhesion            552 non-null    int64 \n",
      " 4   Single Epithelial Cell Size  552 non-null    int64 \n",
      " 5   Bare Nuclei                  552 non-null    object\n",
      " 6   Bland Chromatin              552 non-null    int64 \n",
      " 7   Normal Nucleoli              552 non-null    int64 \n",
      " 8   Mitosis                      552 non-null    int64 \n",
      "dtypes: int64(8), object(1)\n",
      "memory usage: 43.1+ KB\n"
     ]
    }
   ],
   "source": [
    "X_train.info()"
   ]
  },
  {
   "cell_type": "code",
   "execution_count": 36,
   "metadata": {},
   "outputs": [
    {
     "name": "stdout",
     "output_type": "stream",
     "text": [
      "<class 'pandas.core.frame.DataFrame'>\n",
      "Int64Index: 139 entries, 386 to 650\n",
      "Data columns (total 9 columns):\n",
      " #   Column                       Non-Null Count  Dtype \n",
      "---  ------                       --------------  ----- \n",
      " 0   Clump Thickness              139 non-null    int64 \n",
      " 1   Uniformity of Cell Size      139 non-null    int64 \n",
      " 2   Uniformity of Cell Shape     139 non-null    int64 \n",
      " 3   Marginal Adhesion            139 non-null    int64 \n",
      " 4   Single Epithelial Cell Size  139 non-null    int64 \n",
      " 5   Bare Nuclei                  139 non-null    object\n",
      " 6   Bland Chromatin              139 non-null    int64 \n",
      " 7   Normal Nucleoli              139 non-null    int64 \n",
      " 8   Mitosis                      139 non-null    int64 \n",
      "dtypes: int64(8), object(1)\n",
      "memory usage: 10.9+ KB\n"
     ]
    }
   ],
   "source": [
    "X_test.info()"
   ]
  },
  {
   "cell_type": "code",
   "execution_count": 37,
   "metadata": {},
   "outputs": [
    {
     "data": {
      "text/plain": [
       "(110    2\n",
       " 82     2\n",
       " 51     4\n",
       " 219    2\n",
       " 575    2\n",
       " Name: Class, dtype: int64,\n",
       " 386    4\n",
       " 682    2\n",
       " 261    4\n",
       " 344    4\n",
       " 324    2\n",
       " Name: Class, dtype: int64)"
      ]
     },
     "execution_count": 37,
     "metadata": {},
     "output_type": "execute_result"
    }
   ],
   "source": [
    "y_train.head(), y_test.head()"
   ]
  },
  {
   "cell_type": "code",
   "execution_count": 38,
   "metadata": {},
   "outputs": [
    {
     "data": {
      "text/plain": [
       "Class\n",
       "2        453\n",
       "4        238\n",
       "dtype: int64"
      ]
     },
     "execution_count": 38,
     "metadata": {},
     "output_type": "execute_result"
    }
   ],
   "source": [
    "pd.DataFrame(y).value_counts()"
   ]
  },
  {
   "cell_type": "markdown",
   "metadata": {
    "id": "vGKGV13TPaLJ"
   },
   "source": [
    "---\n",
    "**<h4>Question 6:** Create a function to normalize the data.</h4>\n",
    "\n",
    "---\n",
    "\n",
    "- Using the StandardScaler() function  transform the data in suitable format for the model.\n"
   ]
  },
  {
   "cell_type": "code",
   "execution_count": 39,
   "metadata": {
    "id": "-zIf-hY9O1wo"
   },
   "outputs": [],
   "source": [
    "def scale_data(X_train, X_test):\n",
    "    scaler = StandardScaler()\n",
    "    X_train_n = scaler.fit_transform(X_train)\n",
    "    X_test_n = scaler.transform(X_test)\n",
    "    X_train_df = pd.DataFrame(X_train_n, index = X_train.index, columns = X_train.columns)\n",
    "    X_test_df = pd.DataFrame(X_test_n, index = X_test.index, columns = X_test.columns)\n",
    "    return X_train_df, X_test"
   ]
  },
  {
   "cell_type": "code",
   "execution_count": 40,
   "metadata": {
    "id": "sswUPmdSPTd3"
   },
   "outputs": [
    {
     "data": {
      "text/html": [
       "<div>\n",
       "<style scoped>\n",
       "    .dataframe tbody tr th:only-of-type {\n",
       "        vertical-align: middle;\n",
       "    }\n",
       "\n",
       "    .dataframe tbody tr th {\n",
       "        vertical-align: top;\n",
       "    }\n",
       "\n",
       "    .dataframe thead th {\n",
       "        text-align: right;\n",
       "    }\n",
       "</style>\n",
       "<table border=\"1\" class=\"dataframe\">\n",
       "  <thead>\n",
       "    <tr style=\"text-align: right;\">\n",
       "      <th></th>\n",
       "      <th>Clump Thickness</th>\n",
       "      <th>Uniformity of Cell Size</th>\n",
       "      <th>Uniformity of Cell Shape</th>\n",
       "      <th>Marginal Adhesion</th>\n",
       "      <th>Single Epithelial Cell Size</th>\n",
       "      <th>Bare Nuclei</th>\n",
       "      <th>Bland Chromatin</th>\n",
       "      <th>Normal Nucleoli</th>\n",
       "      <th>Mitosis</th>\n",
       "    </tr>\n",
       "  </thead>\n",
       "  <tbody>\n",
       "    <tr>\n",
       "      <th>110</th>\n",
       "      <td>-1.247834</td>\n",
       "      <td>-0.070304</td>\n",
       "      <td>-0.757536</td>\n",
       "      <td>-0.308891</td>\n",
       "      <td>-0.571893</td>\n",
       "      <td>-0.413078</td>\n",
       "      <td>0.612085</td>\n",
       "      <td>0.016845</td>\n",
       "      <td>0.211714</td>\n",
       "    </tr>\n",
       "    <tr>\n",
       "      <th>82</th>\n",
       "      <td>0.165823</td>\n",
       "      <td>-0.393703</td>\n",
       "      <td>-0.757536</td>\n",
       "      <td>-0.654750</td>\n",
       "      <td>-0.571893</td>\n",
       "      <td>-0.685502</td>\n",
       "      <td>-0.193328</td>\n",
       "      <td>-0.624414</td>\n",
       "      <td>-0.355598</td>\n",
       "    </tr>\n",
       "    <tr>\n",
       "      <th>51</th>\n",
       "      <td>0.165823</td>\n",
       "      <td>-0.070304</td>\n",
       "      <td>-0.098498</td>\n",
       "      <td>0.382825</td>\n",
       "      <td>-0.571893</td>\n",
       "      <td>0.131770</td>\n",
       "      <td>-0.193328</td>\n",
       "      <td>0.337474</td>\n",
       "      <td>-0.355598</td>\n",
       "    </tr>\n",
       "    <tr>\n",
       "      <th>219</th>\n",
       "      <td>0.519237</td>\n",
       "      <td>-0.717102</td>\n",
       "      <td>-0.098498</td>\n",
       "      <td>-0.654750</td>\n",
       "      <td>-0.571893</td>\n",
       "      <td>-0.685502</td>\n",
       "      <td>-0.193328</td>\n",
       "      <td>-0.624414</td>\n",
       "      <td>-0.355598</td>\n",
       "    </tr>\n",
       "    <tr>\n",
       "      <th>575</th>\n",
       "      <td>0.165823</td>\n",
       "      <td>-0.717102</td>\n",
       "      <td>-0.428017</td>\n",
       "      <td>-0.654750</td>\n",
       "      <td>-0.571893</td>\n",
       "      <td>-0.685502</td>\n",
       "      <td>-0.193328</td>\n",
       "      <td>-0.624414</td>\n",
       "      <td>-0.355598</td>\n",
       "    </tr>\n",
       "  </tbody>\n",
       "</table>\n",
       "</div>"
      ],
      "text/plain": [
       "     Clump Thickness  Uniformity of Cell Size  Uniformity of Cell Shape  \\\n",
       "110        -1.247834                -0.070304                 -0.757536   \n",
       "82          0.165823                -0.393703                 -0.757536   \n",
       "51          0.165823                -0.070304                 -0.098498   \n",
       "219         0.519237                -0.717102                 -0.098498   \n",
       "575         0.165823                -0.717102                 -0.428017   \n",
       "\n",
       "     Marginal Adhesion  Single Epithelial Cell Size  Bare Nuclei  \\\n",
       "110          -0.308891                    -0.571893    -0.413078   \n",
       "82           -0.654750                    -0.571893    -0.685502   \n",
       "51            0.382825                    -0.571893     0.131770   \n",
       "219          -0.654750                    -0.571893    -0.685502   \n",
       "575          -0.654750                    -0.571893    -0.685502   \n",
       "\n",
       "     Bland Chromatin  Normal Nucleoli   Mitosis  \n",
       "110         0.612085         0.016845  0.211714  \n",
       "82         -0.193328        -0.624414 -0.355598  \n",
       "51         -0.193328         0.337474 -0.355598  \n",
       "219        -0.193328        -0.624414 -0.355598  \n",
       "575        -0.193328        -0.624414 -0.355598  "
      ]
     },
     "execution_count": 40,
     "metadata": {},
     "output_type": "execute_result"
    }
   ],
   "source": [
    "X_train, X_test = scale_data(X_train,X_test)\n",
    "X_train.head()"
   ]
  },
  {
   "cell_type": "code",
   "execution_count": 41,
   "metadata": {},
   "outputs": [
    {
     "data": {
      "text/html": [
       "<div>\n",
       "<style scoped>\n",
       "    .dataframe tbody tr th:only-of-type {\n",
       "        vertical-align: middle;\n",
       "    }\n",
       "\n",
       "    .dataframe tbody tr th {\n",
       "        vertical-align: top;\n",
       "    }\n",
       "\n",
       "    .dataframe thead th {\n",
       "        text-align: right;\n",
       "    }\n",
       "</style>\n",
       "<table border=\"1\" class=\"dataframe\">\n",
       "  <thead>\n",
       "    <tr style=\"text-align: right;\">\n",
       "      <th></th>\n",
       "      <th>Clump Thickness</th>\n",
       "      <th>Uniformity of Cell Size</th>\n",
       "      <th>Uniformity of Cell Shape</th>\n",
       "      <th>Marginal Adhesion</th>\n",
       "      <th>Single Epithelial Cell Size</th>\n",
       "      <th>Bare Nuclei</th>\n",
       "      <th>Bland Chromatin</th>\n",
       "      <th>Normal Nucleoli</th>\n",
       "      <th>Mitosis</th>\n",
       "    </tr>\n",
       "  </thead>\n",
       "  <tbody>\n",
       "    <tr>\n",
       "      <th>386</th>\n",
       "      <td>7</td>\n",
       "      <td>6</td>\n",
       "      <td>6</td>\n",
       "      <td>3</td>\n",
       "      <td>2</td>\n",
       "      <td>10</td>\n",
       "      <td>7</td>\n",
       "      <td>1</td>\n",
       "      <td>1</td>\n",
       "    </tr>\n",
       "    <tr>\n",
       "      <th>682</th>\n",
       "      <td>5</td>\n",
       "      <td>1</td>\n",
       "      <td>1</td>\n",
       "      <td>1</td>\n",
       "      <td>2</td>\n",
       "      <td>1</td>\n",
       "      <td>3</td>\n",
       "      <td>2</td>\n",
       "      <td>1</td>\n",
       "    </tr>\n",
       "    <tr>\n",
       "      <th>261</th>\n",
       "      <td>5</td>\n",
       "      <td>10</td>\n",
       "      <td>10</td>\n",
       "      <td>6</td>\n",
       "      <td>10</td>\n",
       "      <td>10</td>\n",
       "      <td>10</td>\n",
       "      <td>6</td>\n",
       "      <td>5</td>\n",
       "    </tr>\n",
       "    <tr>\n",
       "      <th>344</th>\n",
       "      <td>7</td>\n",
       "      <td>6</td>\n",
       "      <td>4</td>\n",
       "      <td>8</td>\n",
       "      <td>10</td>\n",
       "      <td>10</td>\n",
       "      <td>9</td>\n",
       "      <td>5</td>\n",
       "      <td>3</td>\n",
       "    </tr>\n",
       "    <tr>\n",
       "      <th>324</th>\n",
       "      <td>1</td>\n",
       "      <td>1</td>\n",
       "      <td>1</td>\n",
       "      <td>1</td>\n",
       "      <td>2</td>\n",
       "      <td>1</td>\n",
       "      <td>3</td>\n",
       "      <td>1</td>\n",
       "      <td>1</td>\n",
       "    </tr>\n",
       "  </tbody>\n",
       "</table>\n",
       "</div>"
      ],
      "text/plain": [
       "     Clump Thickness  Uniformity of Cell Size  Uniformity of Cell Shape  \\\n",
       "386                7                        6                         6   \n",
       "682                5                        1                         1   \n",
       "261                5                       10                        10   \n",
       "344                7                        6                         4   \n",
       "324                1                        1                         1   \n",
       "\n",
       "     Marginal Adhesion  Single Epithelial Cell Size Bare Nuclei  \\\n",
       "386                  3                            2          10   \n",
       "682                  1                            2           1   \n",
       "261                  6                           10          10   \n",
       "344                  8                           10          10   \n",
       "324                  1                            2           1   \n",
       "\n",
       "     Bland Chromatin  Normal Nucleoli  Mitosis  \n",
       "386                7                1        1  \n",
       "682                3                2        1  \n",
       "261               10                6        5  \n",
       "344                9                5        3  \n",
       "324                3                1        1  "
      ]
     },
     "execution_count": 41,
     "metadata": {},
     "output_type": "execute_result"
    }
   ],
   "source": [
    "X_test.head()"
   ]
  },
  {
   "cell_type": "markdown",
   "metadata": {
    "id": "vRaIb8JzmPKa"
   },
   "source": [
    "<a name = Section8></a>\n",
    "\n",
    "---\n",
    "# **8. Model Development & Evaluation**\n",
    "---\n",
    "\n",
    "- In this section, we will develop different **ensemble methods**.\n",
    "\n",
    "- Then we will **analyze the results** obtained and **make our observation**.\n",
    "\n",
    "- For **evaluation purposes** we will **focus** on the **accuracy score**.\n",
    "\n",
    "- **Remember** that we want to **generalize results** i.e. same results or error on testing data as that of training data."
   ]
  },
  {
   "cell_type": "markdown",
   "metadata": {
    "id": "ULCYHFPNnqh4"
   },
   "source": [
    "---\n",
    "**<h4>Question 7:** Create a function to  instantiate a bagging classifier  with the following settings.</h4>\n",
    "\n",
    "---\n",
    "\n",
    "- You have to use the hyperparameters setting of the model as following:\n",
    "  - `base_estimator` = Logistic Regression\n",
    "  - `n_neghbors` = 500 and\n",
    "  - `random_state` = 42\n"
   ]
  },
  {
   "cell_type": "code",
   "execution_count": 42,
   "metadata": {
    "id": "KHERXnjajdP7"
   },
   "outputs": [],
   "source": [
    "def bagging():\n",
    "    base_class = LogisticRegression()\n",
    "    bagClf = BaggingClassifier(base_estimator = base_class,\n",
    "                             n_estimators = 500,\n",
    "                             random_state = 42)\n",
    "    return bagClf"
   ]
  },
  {
   "cell_type": "markdown",
   "metadata": {
    "id": "46032_RL4KjD"
   },
   "source": [
    "---\n",
    "**<h4>Question 8:** Create a function to instantiate a random forest classifier with the following settings.</h4>\n",
    "\n",
    "---\n",
    "\n",
    "- You have to use the hyperparameters setting of the model as following:\n",
    "  - `n_neghbors` = 100,\n",
    "\n",
    "  - `random_state` = 42,\n",
    "\n",
    "  - `class_weight` = 'balanced'"
   ]
  },
  {
   "cell_type": "code",
   "execution_count": 43,
   "metadata": {
    "id": "iTKUntiV4R3L"
   },
   "outputs": [],
   "source": [
    "def random_forest():\n",
    "    rfm = RandomForestClassifier(n_estimators = 100,\n",
    "                                class_weight = 'balanced',\n",
    "                                random_state = 42)\n",
    "    return rfm"
   ]
  },
  {
   "cell_type": "markdown",
   "metadata": {
    "id": "ga1Vpjytx-Cy"
   },
   "source": [
    "---\n",
    "**<h4>Question 9:** Create a function to  instantiate an AdaBoost classifier with the following settings.</h4>\n",
    "\n",
    "---\n",
    "\n",
    "- You have to use the hyperparameters setting of the model as following:\n",
    "  - `n_neghbors` = 70\n",
    "\n",
    "  - `random_state` = 42 "
   ]
  },
  {
   "cell_type": "code",
   "execution_count": 44,
   "metadata": {
    "id": "hVs3CunAqN1z"
   },
   "outputs": [],
   "source": [
    "def adaBoost():\n",
    "    abm = AdaBoostClassifier(n_estimators = 70,\n",
    "                            random_state = 42)\n",
    "    return abm"
   ]
  },
  {
   "cell_type": "markdown",
   "metadata": {
    "id": "EkTetmwC2SSL"
   },
   "source": [
    "---\n",
    "**<h4>Question 10:** Create a function to perform an ensemble model using Voting Classifier.</h4>\n",
    "\n",
    "---\n",
    "- You can use different model like \"LogisticRegression\", \"DecisionTreeClassifier\", \"SVC\" to create a voting classifier."
   ]
  },
  {
   "cell_type": "code",
   "execution_count": 45,
   "metadata": {
    "id": "Lf6FzwFvzXFo"
   },
   "outputs": [],
   "source": [
    "def votingClass():\n",
    "    bagClf = bagging()\n",
    "    rfm = random_forest()\n",
    "    abm = adaBoost()\n",
    "    classifiers = [('Bagging Classifier', bagClf), ('Random Forest', rfm), ('Ada Boost', abm)]\n",
    "    Vm = VotingClassifier(estimators = classifiers)\n",
    "    return Vm"
   ]
  },
  {
   "cell_type": "markdown",
   "metadata": {
    "id": "sCT5-vpjVwyZ"
   },
   "source": [
    "---\n",
    "**<h4>Question 11:** Create a function to predict accuracy score in both train and test dataset using different models.</h4>\n",
    "\n",
    "---\n",
    "- Create a list with different functions and use a for-loop to predict accuracy on train and test set.\n",
    "\n",
    "- Store the result of train and test scores in separate lists. "
   ]
  },
  {
   "cell_type": "code",
   "execution_count": 46,
   "metadata": {},
   "outputs": [],
   "source": [
    "clf_names = [bagging, random_forest, adaBoost, votingClass]"
   ]
  },
  {
   "cell_type": "code",
   "execution_count": 47,
   "metadata": {
    "id": "a8r-ACtOV9gi"
   },
   "outputs": [],
   "source": [
    "def predict_scores():\n",
    "    classifiers = [bagging(), random_forest(), adaBoost(), votingClass()]\n",
    "    clf_names = ['Bagging', 'Random Forest', 'AdaBoost', 'Voting']\n",
    "    train_scores = []\n",
    "    test_scores = []\n",
    "    for item in classifiers:\n",
    "        item.fit(X_train, y_train)\n",
    "        acc_pred_test = accuracy_score(y_test, item.predict(X_test))\n",
    "        acc_pred_train = accuracy_score(y_train, item.predict(X_train))\n",
    "        test_scores.append(round(100*acc_pred_test, 4))\n",
    "        train_scores.append(round(100*acc_pred_train, 4))\n",
    "    return train_scores, test_scores, clf_names"
   ]
  },
  {
   "cell_type": "code",
   "execution_count": 48,
   "metadata": {
    "id": "0wtSDAQsx-WG"
   },
   "outputs": [],
   "source": [
    "train_scores, test_scores, clf_names = predict_scores()"
   ]
  },
  {
   "cell_type": "code",
   "execution_count": 49,
   "metadata": {},
   "outputs": [
    {
     "name": "stdout",
     "output_type": "stream",
     "text": [
      "      Classifier  Train Scores  Test scores\n",
      "0        Bagging       96.9203      29.4964\n",
      "1  Random Forest      100.0000      29.4964\n",
      "2       AdaBoost       99.8188      29.4964\n",
      "3         Voting       99.8188      29.4964\n"
     ]
    }
   ],
   "source": [
    "acc_scores_df = pd.DataFrame({'Classifier' : clf_names,\n",
    "                             'Train Scores' : train_scores,\n",
    "                             'Test scores' : test_scores})\n",
    "print(acc_scores_df)"
   ]
  },
  {
   "cell_type": "markdown",
   "metadata": {
    "id": "LfFYGaLbYAcg"
   },
   "source": [
    "---\n",
    "**<h4>Question 12:** Complete the following function to initiate a dataframe with the scores of different models.</h4>\n",
    "\n",
    "---\n",
    "\n",
    "- Using the pandas **DataFrame** method create a data frame to compare the accuracy score of different models.\n",
    "\n",
    "- Use the **transpose** method to make the data frame more readable."
   ]
  },
  {
   "cell_type": "code",
   "execution_count": 50,
   "metadata": {
    "id": "TH5xPBzLWjjV"
   },
   "outputs": [],
   "source": [
    "def create_frame(acc_scores_df):\n",
    "    accuracy_frame = acc_scores_df.transpose()\n",
    "    return accuracy_frame"
   ]
  },
  {
   "cell_type": "code",
   "execution_count": 51,
   "metadata": {
    "id": "nh3kA79MaTYv"
   },
   "outputs": [],
   "source": [
    "acc_scores_df_t = create_frame(acc_scores_df)"
   ]
  },
  {
   "cell_type": "code",
   "execution_count": 52,
   "metadata": {},
   "outputs": [
    {
     "data": {
      "text/html": [
       "<div>\n",
       "<style scoped>\n",
       "    .dataframe tbody tr th:only-of-type {\n",
       "        vertical-align: middle;\n",
       "    }\n",
       "\n",
       "    .dataframe tbody tr th {\n",
       "        vertical-align: top;\n",
       "    }\n",
       "\n",
       "    .dataframe thead th {\n",
       "        text-align: right;\n",
       "    }\n",
       "</style>\n",
       "<table border=\"1\" class=\"dataframe\">\n",
       "  <thead>\n",
       "    <tr style=\"text-align: right;\">\n",
       "      <th></th>\n",
       "      <th>0</th>\n",
       "      <th>1</th>\n",
       "      <th>2</th>\n",
       "      <th>3</th>\n",
       "    </tr>\n",
       "  </thead>\n",
       "  <tbody>\n",
       "    <tr>\n",
       "      <th>Classifier</th>\n",
       "      <td>Bagging</td>\n",
       "      <td>Random Forest</td>\n",
       "      <td>AdaBoost</td>\n",
       "      <td>Voting</td>\n",
       "    </tr>\n",
       "    <tr>\n",
       "      <th>Train Scores</th>\n",
       "      <td>96.9203</td>\n",
       "      <td>100.0</td>\n",
       "      <td>99.8188</td>\n",
       "      <td>99.8188</td>\n",
       "    </tr>\n",
       "    <tr>\n",
       "      <th>Test scores</th>\n",
       "      <td>29.4964</td>\n",
       "      <td>29.4964</td>\n",
       "      <td>29.4964</td>\n",
       "      <td>29.4964</td>\n",
       "    </tr>\n",
       "  </tbody>\n",
       "</table>\n",
       "</div>"
      ],
      "text/plain": [
       "                    0              1         2        3\n",
       "Classifier    Bagging  Random Forest  AdaBoost   Voting\n",
       "Train Scores  96.9203          100.0   99.8188  99.8188\n",
       "Test scores   29.4964        29.4964   29.4964  29.4964"
      ]
     },
     "execution_count": 52,
     "metadata": {},
     "output_type": "execute_result"
    }
   ],
   "source": [
    "acc_scores_df_t"
   ]
  },
  {
   "cell_type": "markdown",
   "metadata": {
    "id": "262dGqNxnKnR"
   },
   "source": [
    "---\n",
    "**<h4>Question 13:** Create a function to stack different models to create a stacking classifier.</h4>\n",
    "\n",
    "---\n",
    "\n",
    "- Use StackingClassifier from **mlxtend** to create the model.\n",
    "\n",
    "- Build stacking classifier using **KNN**, **RadomForest** and **Naive Bayes**, use **LogisticRegression** as meta_classifier.\n",
    "\n",
    "- Use cross validation score to predict on the entire dataset with following parameters:\n",
    "  - `estimator` : clf (stacked models)\n",
    "  - `X` : X\n",
    "  - `y` : y\n",
    "  - `cv` : 3\n",
    "  - `scoring` : 'accuracy'\n",
    "\n",
    "- Note that use the whole dataset.\n",
    "\n",
    "- Print accuracy for different models with the model name.\n"
   ]
  },
  {
   "cell_type": "code",
   "execution_count": 59,
   "metadata": {
    "id": "Xwq8u00AizJ7"
   },
   "outputs": [],
   "source": [
    "def stacking_clf(X, y):\n",
    "    model_knn = KNeighborsClassifier()\n",
    "    model_nb = GaussianNB()\n",
    "    model_logreg = LogisticRegression()\n",
    "    model_rf = random_forest()\n",
    "    clf_stack = StackingClassifier(classifiers=[model_knn, model_nb, model_rf],\n",
    "                                   meta_classifier = model_logreg,\n",
    "                                   use_probas = True,\n",
    "                                   use_features_in_secondary = True)\n",
    "    model_stack = clf_stack.fit(X_train, y_train)\n",
    "    pred_stack = model_stack.predict(X_test)\n",
    "    acc_stack = accuracy_score(y_test, pred_stack)\n",
    "    print('Test accuracy score of Stacked model:', round(acc_stack, 6) * 100)"
   ]
  },
  {
   "cell_type": "code",
   "execution_count": 60,
   "metadata": {
    "id": "9z-KLbFou1n4"
   },
   "outputs": [
    {
     "name": "stdout",
     "output_type": "stream",
     "text": [
      "Test accuracy score of Stacked model: 29.4964\n"
     ]
    }
   ],
   "source": [
    "stacking_clf(X, y)"
   ]
  },
  {
   "cell_type": "markdown",
   "metadata": {
    "id": "WZqF6hVQ3tcG"
   },
   "source": [
    "<a name = Section9></a>\n",
    "\n",
    "---\n",
    "# **9. Conclusion**\n",
    "---\n"
   ]
  }
 ],
 "metadata": {
  "colab": {
   "collapsed_sections": [],
   "name": "Ensemble Learning Assignment Problem.ipynb",
   "provenance": []
  },
  "kernelspec": {
   "display_name": "Python 3 (ipykernel)",
   "language": "python",
   "name": "python3"
  },
  "language_info": {
   "codemirror_mode": {
    "name": "ipython",
    "version": 3
   },
   "file_extension": ".py",
   "mimetype": "text/x-python",
   "name": "python",
   "nbconvert_exporter": "python",
   "pygments_lexer": "ipython3",
   "version": "3.9.13"
  }
 },
 "nbformat": 4,
 "nbformat_minor": 1
}
